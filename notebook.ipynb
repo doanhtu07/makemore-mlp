{
 "cells": [
  {
   "cell_type": "code",
   "execution_count": 1,
   "metadata": {},
   "outputs": [],
   "source": [
    "import torch\n",
    "import torch.nn.functional as F\n",
    "import matplotlib.pyplot as plt\n",
    "%matplotlib inline"
   ]
  },
  {
   "cell_type": "code",
   "execution_count": 2,
   "metadata": {},
   "outputs": [
    {
     "data": {
      "text/plain": [
       "['emma', 'olivia', 'ava', 'isabella', 'sophia', 'charlotte', 'mia', 'amelia']"
      ]
     },
     "execution_count": 2,
     "metadata": {},
     "output_type": "execute_result"
    }
   ],
   "source": [
    "words = open('names.txt', 'r').read().splitlines()\n",
    "words[:8]"
   ]
  },
  {
   "cell_type": "code",
   "execution_count": 3,
   "metadata": {},
   "outputs": [
    {
     "data": {
      "text/plain": [
       "32033"
      ]
     },
     "execution_count": 3,
     "metadata": {},
     "output_type": "execute_result"
    }
   ],
   "source": [
    "len(words)"
   ]
  },
  {
   "cell_type": "code",
   "execution_count": 4,
   "metadata": {},
   "outputs": [
    {
     "name": "stdout",
     "output_type": "stream",
     "text": [
      "{1: 'a', 2: 'b', 3: 'c', 4: 'd', 5: 'e', 6: 'f', 7: 'g', 8: 'h', 9: 'i', 10: 'j', 11: 'k', 12: 'l', 13: 'm', 14: 'n', 15: 'o', 16: 'p', 17: 'q', 18: 'r', 19: 's', 20: 't', 21: 'u', 22: 'v', 23: 'w', 24: 'x', 25: 'y', 26: 'z', 0: '.'}\n"
     ]
    }
   ],
   "source": [
    "chars = sorted(set(''.join(words)))\n",
    "stoi = {char: i+1 for i, char in enumerate(chars)}\n",
    "stoi['.'] = 0\n",
    "itos = {i: char for char, i in stoi.items()}\n",
    "print(itos)"
   ]
  },
  {
   "cell_type": "markdown",
   "metadata": {},
   "source": [
    "# Build dataset"
   ]
  },
  {
   "cell_type": "code",
   "execution_count": 5,
   "metadata": {},
   "outputs": [
    {
     "name": "stdout",
     "output_type": "stream",
     "text": [
      "emma\n",
      "... ---> e\n",
      "..e ---> m\n",
      ".em ---> m\n",
      "emm ---> a\n",
      "mma ---> .\n",
      "olivia\n",
      "... ---> o\n",
      "..o ---> l\n",
      ".ol ---> i\n",
      "oli ---> v\n",
      "liv ---> i\n",
      "ivi ---> a\n",
      "via ---> .\n",
      "ava\n",
      "... ---> a\n",
      "..a ---> v\n",
      ".av ---> a\n",
      "ava ---> .\n",
      "isabella\n",
      "... ---> i\n",
      "..i ---> s\n",
      ".is ---> a\n",
      "isa ---> b\n",
      "sab ---> e\n",
      "abe ---> l\n",
      "bel ---> l\n",
      "ell ---> a\n",
      "lla ---> .\n",
      "sophia\n",
      "... ---> s\n",
      "..s ---> o\n",
      ".so ---> p\n",
      "sop ---> h\n",
      "oph ---> i\n",
      "phi ---> a\n",
      "hia ---> .\n"
     ]
    }
   ],
   "source": [
    "block_size = 3 # context length: how many characters we take to predict the next one?\n",
    "X, Y = [], []\n",
    "\n",
    "for w in words[:5]:\n",
    "    print(w)\n",
    "    context = [0] * block_size\n",
    "    for ch in w + '.':\n",
    "        ix = stoi[ch]\n",
    "        X.append(context)\n",
    "        Y.append(ix)\n",
    "        print(''.join(itos[i] for i in context), '--->', itos[ix])\n",
    "        context = context[1:] + [ix] # crop oldes element and append the new one\n",
    "\n",
    "X = torch.tensor(X)\n",
    "Y = torch.tensor(Y)"
   ]
  },
  {
   "cell_type": "code",
   "execution_count": 6,
   "metadata": {},
   "outputs": [
    {
     "data": {
      "text/plain": [
       "(torch.Size([32, 3]), torch.int64, torch.Size([32]), torch.int64)"
      ]
     },
     "execution_count": 6,
     "metadata": {},
     "output_type": "execute_result"
    }
   ],
   "source": [
    "X.shape, X.dtype, Y.shape, Y.dtype"
   ]
  },
  {
   "cell_type": "code",
   "execution_count": 7,
   "metadata": {},
   "outputs": [
    {
     "data": {
      "text/plain": [
       "tensor([[ 0,  0,  0],\n",
       "        [ 0,  0,  5],\n",
       "        [ 0,  5, 13],\n",
       "        [ 5, 13, 13],\n",
       "        [13, 13,  1],\n",
       "        [ 0,  0,  0],\n",
       "        [ 0,  0, 15],\n",
       "        [ 0, 15, 12],\n",
       "        [15, 12,  9],\n",
       "        [12,  9, 22],\n",
       "        [ 9, 22,  9],\n",
       "        [22,  9,  1],\n",
       "        [ 0,  0,  0],\n",
       "        [ 0,  0,  1],\n",
       "        [ 0,  1, 22],\n",
       "        [ 1, 22,  1],\n",
       "        [ 0,  0,  0],\n",
       "        [ 0,  0,  9],\n",
       "        [ 0,  9, 19],\n",
       "        [ 9, 19,  1],\n",
       "        [19,  1,  2],\n",
       "        [ 1,  2,  5],\n",
       "        [ 2,  5, 12],\n",
       "        [ 5, 12, 12],\n",
       "        [12, 12,  1],\n",
       "        [ 0,  0,  0],\n",
       "        [ 0,  0, 19],\n",
       "        [ 0, 19, 15],\n",
       "        [19, 15, 16],\n",
       "        [15, 16,  8],\n",
       "        [16,  8,  9],\n",
       "        [ 8,  9,  1]])"
      ]
     },
     "execution_count": 7,
     "metadata": {},
     "output_type": "execute_result"
    }
   ],
   "source": [
    "X"
   ]
  },
  {
   "cell_type": "code",
   "execution_count": 8,
   "metadata": {},
   "outputs": [
    {
     "data": {
      "text/plain": [
       "tensor([ 5, 13, 13,  1,  0, 15, 12,  9, 22,  9,  1,  0,  1, 22,  1,  0,  9, 19,\n",
       "         1,  2,  5, 12, 12,  1,  0, 19, 15, 16,  8,  9,  1,  0])"
      ]
     },
     "execution_count": 8,
     "metadata": {},
     "output_type": "execute_result"
    }
   ],
   "source": [
    "Y"
   ]
  },
  {
   "cell_type": "markdown",
   "metadata": {},
   "source": [
    "# Build embedding table C\n",
    "\n",
    "In the paper, they have 17000 words, with each word as a 30-dimensional vector.\n",
    "\n",
    "Here we have 27 characters. We will make each character an embedding vector too."
   ]
  },
  {
   "cell_type": "code",
   "execution_count": 9,
   "metadata": {},
   "outputs": [
    {
     "data": {
      "text/plain": [
       "tensor([[-2.1734, -0.9600],\n",
       "        [-1.0819,  1.4586],\n",
       "        [ 1.8410, -1.0094],\n",
       "        [-0.0722, -0.2847],\n",
       "        [-0.9561,  0.7399],\n",
       "        [ 0.7908,  0.0993],\n",
       "        [-0.2409, -0.2831],\n",
       "        [ 0.0688,  0.1468],\n",
       "        [ 0.8983, -0.1054],\n",
       "        [-0.2077, -0.7731],\n",
       "        [-0.7970, -0.7668],\n",
       "        [ 0.5481, -0.7793],\n",
       "        [ 0.9319,  0.5424],\n",
       "        [-1.1554,  1.5480],\n",
       "        [-0.2740,  0.5869],\n",
       "        [-0.0207,  1.3309],\n",
       "        [ 0.4114, -0.4480],\n",
       "        [-1.1941, -1.1397],\n",
       "        [-1.6162, -0.4752],\n",
       "        [-0.2040,  0.6230],\n",
       "        [-0.5736,  0.0622],\n",
       "        [-0.1189,  1.3639],\n",
       "        [-0.1505,  0.0996],\n",
       "        [ 0.6102, -1.2525],\n",
       "        [-1.9461, -0.6442],\n",
       "        [ 0.3418, -1.7236],\n",
       "        [ 0.3932, -0.7311]])"
      ]
     },
     "execution_count": 9,
     "metadata": {},
     "output_type": "execute_result"
    }
   ],
   "source": [
    "C = torch.randn((27, 2)) # 27 characters, each character will have a corresponding 2-dim embedding vector\n",
    "C"
   ]
  },
  {
   "cell_type": "code",
   "execution_count": 10,
   "metadata": {},
   "outputs": [
    {
     "data": {
      "text/plain": [
       "tensor([0.7908, 0.0993])"
      ]
     },
     "execution_count": 10,
     "metadata": {},
     "output_type": "execute_result"
    }
   ],
   "source": [
    "# First way to index into embedding lookup matrix C\n",
    "C[5]"
   ]
  },
  {
   "cell_type": "code",
   "execution_count": 11,
   "metadata": {},
   "outputs": [
    {
     "data": {
      "text/plain": [
       "tensor([0, 0, 0, 0, 0, 1, 0, 0, 0, 0, 0, 0, 0, 0, 0, 0, 0, 0, 0, 0, 0, 0, 0, 0,\n",
       "        0, 0, 0])"
      ]
     },
     "execution_count": 11,
     "metadata": {},
     "output_type": "execute_result"
    }
   ],
   "source": [
    "F.one_hot(torch.tensor(5), num_classes=27)"
   ]
  },
  {
   "cell_type": "code",
   "execution_count": 12,
   "metadata": {},
   "outputs": [
    {
     "data": {
      "text/plain": [
       "tensor([0.7908, 0.0993])"
      ]
     },
     "execution_count": 12,
     "metadata": {},
     "output_type": "execute_result"
    }
   ],
   "source": [
    "# Matrix multiplication: 1 x 27, 27 x 2\n",
    "# Notice the result is the same as indexing 5 into matrix C\n",
    "F.one_hot(torch.tensor(5), num_classes=27).float() @ C"
   ]
  },
  {
   "cell_type": "code",
   "execution_count": 13,
   "metadata": {},
   "outputs": [
    {
     "data": {
      "text/plain": [
       "'\\nWe can think of embedding layer C as a linear layer\\nC is the weight matrix\\nAnd the output is taken as-is (linear)\\n\\nWe convert the character into one-hot encoding\\nThen feed into this first embedding layer\\nThe output will be the indexed embedding vector (shown right above)\\n'"
      ]
     },
     "execution_count": 13,
     "metadata": {},
     "output_type": "execute_result"
    }
   ],
   "source": [
    "\"\"\"\n",
    "We can think of embedding layer C as a linear layer\n",
    "C is the weight matrix\n",
    "And the output is taken as-is (linear)\n",
    "\n",
    "We convert the character into one-hot encoding\n",
    "Then feed into this first embedding layer\n",
    "The output will be the indexed embedding vector (shown right above)\n",
    "\"\"\""
   ]
  },
  {
   "cell_type": "code",
   "execution_count": 14,
   "metadata": {},
   "outputs": [
    {
     "data": {
      "text/plain": [
       "tensor([[ 0.7908,  0.0993],\n",
       "        [-0.2409, -0.2831],\n",
       "        [ 0.0688,  0.1468]])"
      ]
     },
     "execution_count": 14,
     "metadata": {},
     "output_type": "execute_result"
    }
   ],
   "source": [
    "# In PyTorch, we can index multiple rows\n",
    "C[[5,6,7]]"
   ]
  },
  {
   "cell_type": "code",
   "execution_count": 15,
   "metadata": {},
   "outputs": [
    {
     "data": {
      "text/plain": [
       "tensor([[ 0.7908,  0.0993],\n",
       "        [-0.2409, -0.2831],\n",
       "        [ 0.0688,  0.1468]])"
      ]
     },
     "execution_count": 15,
     "metadata": {},
     "output_type": "execute_result"
    }
   ],
   "source": [
    "# In PyTorch, we can index multiple rows\n",
    "C[torch.tensor([5,6,7])]"
   ]
  },
  {
   "cell_type": "code",
   "execution_count": 16,
   "metadata": {},
   "outputs": [
    {
     "data": {
      "text/plain": [
       "tensor([[[-2.1734, -0.9600],\n",
       "         [-2.1734, -0.9600],\n",
       "         [-2.1734, -0.9600]],\n",
       "\n",
       "        [[-2.1734, -0.9600],\n",
       "         [-2.1734, -0.9600],\n",
       "         [ 0.7908,  0.0993]],\n",
       "\n",
       "        [[-2.1734, -0.9600],\n",
       "         [ 0.7908,  0.0993],\n",
       "         [-1.1554,  1.5480]],\n",
       "\n",
       "        [[ 0.7908,  0.0993],\n",
       "         [-1.1554,  1.5480],\n",
       "         [-1.1554,  1.5480]],\n",
       "\n",
       "        [[-1.1554,  1.5480],\n",
       "         [-1.1554,  1.5480],\n",
       "         [-1.0819,  1.4586]],\n",
       "\n",
       "        [[-2.1734, -0.9600],\n",
       "         [-2.1734, -0.9600],\n",
       "         [-2.1734, -0.9600]],\n",
       "\n",
       "        [[-2.1734, -0.9600],\n",
       "         [-2.1734, -0.9600],\n",
       "         [-0.0207,  1.3309]],\n",
       "\n",
       "        [[-2.1734, -0.9600],\n",
       "         [-0.0207,  1.3309],\n",
       "         [ 0.9319,  0.5424]],\n",
       "\n",
       "        [[-0.0207,  1.3309],\n",
       "         [ 0.9319,  0.5424],\n",
       "         [-0.2077, -0.7731]],\n",
       "\n",
       "        [[ 0.9319,  0.5424],\n",
       "         [-0.2077, -0.7731],\n",
       "         [-0.1505,  0.0996]],\n",
       "\n",
       "        [[-0.2077, -0.7731],\n",
       "         [-0.1505,  0.0996],\n",
       "         [-0.2077, -0.7731]],\n",
       "\n",
       "        [[-0.1505,  0.0996],\n",
       "         [-0.2077, -0.7731],\n",
       "         [-1.0819,  1.4586]],\n",
       "\n",
       "        [[-2.1734, -0.9600],\n",
       "         [-2.1734, -0.9600],\n",
       "         [-2.1734, -0.9600]],\n",
       "\n",
       "        [[-2.1734, -0.9600],\n",
       "         [-2.1734, -0.9600],\n",
       "         [-1.0819,  1.4586]],\n",
       "\n",
       "        [[-2.1734, -0.9600],\n",
       "         [-1.0819,  1.4586],\n",
       "         [-0.1505,  0.0996]],\n",
       "\n",
       "        [[-1.0819,  1.4586],\n",
       "         [-0.1505,  0.0996],\n",
       "         [-1.0819,  1.4586]],\n",
       "\n",
       "        [[-2.1734, -0.9600],\n",
       "         [-2.1734, -0.9600],\n",
       "         [-2.1734, -0.9600]],\n",
       "\n",
       "        [[-2.1734, -0.9600],\n",
       "         [-2.1734, -0.9600],\n",
       "         [-0.2077, -0.7731]],\n",
       "\n",
       "        [[-2.1734, -0.9600],\n",
       "         [-0.2077, -0.7731],\n",
       "         [-0.2040,  0.6230]],\n",
       "\n",
       "        [[-0.2077, -0.7731],\n",
       "         [-0.2040,  0.6230],\n",
       "         [-1.0819,  1.4586]],\n",
       "\n",
       "        [[-0.2040,  0.6230],\n",
       "         [-1.0819,  1.4586],\n",
       "         [ 1.8410, -1.0094]],\n",
       "\n",
       "        [[-1.0819,  1.4586],\n",
       "         [ 1.8410, -1.0094],\n",
       "         [ 0.7908,  0.0993]],\n",
       "\n",
       "        [[ 1.8410, -1.0094],\n",
       "         [ 0.7908,  0.0993],\n",
       "         [ 0.9319,  0.5424]],\n",
       "\n",
       "        [[ 0.7908,  0.0993],\n",
       "         [ 0.9319,  0.5424],\n",
       "         [ 0.9319,  0.5424]],\n",
       "\n",
       "        [[ 0.9319,  0.5424],\n",
       "         [ 0.9319,  0.5424],\n",
       "         [-1.0819,  1.4586]],\n",
       "\n",
       "        [[-2.1734, -0.9600],\n",
       "         [-2.1734, -0.9600],\n",
       "         [-2.1734, -0.9600]],\n",
       "\n",
       "        [[-2.1734, -0.9600],\n",
       "         [-2.1734, -0.9600],\n",
       "         [-0.2040,  0.6230]],\n",
       "\n",
       "        [[-2.1734, -0.9600],\n",
       "         [-0.2040,  0.6230],\n",
       "         [-0.0207,  1.3309]],\n",
       "\n",
       "        [[-0.2040,  0.6230],\n",
       "         [-0.0207,  1.3309],\n",
       "         [ 0.4114, -0.4480]],\n",
       "\n",
       "        [[-0.0207,  1.3309],\n",
       "         [ 0.4114, -0.4480],\n",
       "         [ 0.8983, -0.1054]],\n",
       "\n",
       "        [[ 0.4114, -0.4480],\n",
       "         [ 0.8983, -0.1054],\n",
       "         [-0.2077, -0.7731]],\n",
       "\n",
       "        [[ 0.8983, -0.1054],\n",
       "         [-0.2077, -0.7731],\n",
       "         [-1.0819,  1.4586]]])"
      ]
     },
     "execution_count": 16,
     "metadata": {},
     "output_type": "execute_result"
    }
   ],
   "source": [
    "# X = 32 x 3 (context)\n",
    "C[X]"
   ]
  },
  {
   "cell_type": "code",
   "execution_count": 17,
   "metadata": {},
   "outputs": [
    {
     "data": {
      "text/plain": [
       "torch.Size([32, 3, 2])"
      ]
     },
     "execution_count": 17,
     "metadata": {},
     "output_type": "execute_result"
    }
   ],
   "source": [
    "# For each element in context X, index it and get the embedding vector 2-dim\n",
    "C[X].shape"
   ]
  },
  {
   "cell_type": "code",
   "execution_count": 18,
   "metadata": {},
   "outputs": [
    {
     "name": "stdout",
     "output_type": "stream",
     "text": [
      "tensor(1)\n",
      "tensor([-1.0819,  1.4586])\n",
      "tensor([-1.0819,  1.4586])\n"
     ]
    }
   ],
   "source": [
    "print(X[13, 2])\n",
    "print(C[X][13, 2])\n",
    "print(C[1])"
   ]
  },
  {
   "cell_type": "code",
   "execution_count": 19,
   "metadata": {},
   "outputs": [
    {
     "data": {
      "text/plain": [
       "torch.Size([32, 3, 2])"
      ]
     },
     "execution_count": 19,
     "metadata": {},
     "output_type": "execute_result"
    }
   ],
   "source": [
    "emb = C[X]\n",
    "emb.shape"
   ]
  },
  {
   "cell_type": "markdown",
   "metadata": {},
   "source": [
    "# Build the first layer"
   ]
  },
  {
   "cell_type": "code",
   "execution_count": 20,
   "metadata": {},
   "outputs": [],
   "source": [
    "# 6 is because we have 3 input vectors (according to our model diagram)\n",
    "# Each vector is 2-dim\n",
    "\n",
    "# 100 is the length of hidden layer\n",
    "# It's a hyper-parameter, which we can play around and set\n",
    "\n",
    "W1 = torch.randn((6, 100))\n",
    "b1 = torch.randn(100)"
   ]
  },
  {
   "cell_type": "code",
   "execution_count": 21,
   "metadata": {},
   "outputs": [
    {
     "data": {
      "text/plain": [
       "'\\nWhat we want to do is:\\n- emb @ W1 + b1\\n\\nBut now, emb has dimension of 32 x 3 x 2\\nWe need to make it into 32 x 6\\n\\nResource: https://pytorch.org/docs/stable/torch.html#indexing-slicing-joining-mutating-ops\\n'"
      ]
     },
     "execution_count": 21,
     "metadata": {},
     "output_type": "execute_result"
    }
   ],
   "source": [
    "\"\"\"\n",
    "What we want to do is:\n",
    "- emb @ W1 + b1\n",
    "\n",
    "But now, emb has dimension of 32 x 3 x 2\n",
    "We need to make it into 32 x 6\n",
    "\n",
    "Resource: https://pytorch.org/docs/stable/torch.html#indexing-slicing-joining-mutating-ops\n",
    "\"\"\""
   ]
  },
  {
   "cell_type": "code",
   "execution_count": 22,
   "metadata": {},
   "outputs": [
    {
     "data": {
      "text/plain": [
       "torch.Size([32, 6])"
      ]
     },
     "execution_count": 22,
     "metadata": {},
     "output_type": "execute_result"
    }
   ],
   "source": [
    "# https://pytorch.org/docs/stable/generated/torch.cat.html#torch.cat\n",
    "torch.cat([emb[:, 0, :], emb[:, 1, :], emb[:, 2, :]], dim=1).shape"
   ]
  },
  {
   "cell_type": "code",
   "execution_count": 23,
   "metadata": {},
   "outputs": [
    {
     "data": {
      "text/plain": [
       "torch.Size([32, 6])"
      ]
     },
     "execution_count": 23,
     "metadata": {},
     "output_type": "execute_result"
    }
   ],
   "source": [
    "# https://pytorch.org/docs/stable/generated/torch.unbind.html#torch.unbind\n",
    "# unbind will return slices across the dimension\n",
    "# In our case, it's a list (length 3) of matrices 32 x 2 (since we unbind the dim=1 which is 3)\n",
    "# Then we concat these matrices by the dim=1, which will become a single matrix 32 x 6\n",
    "\n",
    "# This is inefficient because we create new tensors (which mean new storage/memory)\n",
    "\n",
    "torch.cat(torch.unbind(emb, dim=1), dim=1).shape"
   ]
  },
  {
   "cell_type": "code",
   "execution_count": 24,
   "metadata": {},
   "outputs": [
    {
     "data": {
      "text/plain": [
       "tensor([ 0,  1,  2,  3,  4,  5,  6,  7,  8,  9, 10, 11, 12, 13, 14, 15, 16, 17])"
      ]
     },
     "execution_count": 24,
     "metadata": {},
     "output_type": "execute_result"
    }
   ],
   "source": [
    "# ANOTHER BETTER WAY\n",
    "a = torch.arange(18)\n",
    "a"
   ]
  },
  {
   "cell_type": "code",
   "execution_count": 25,
   "metadata": {},
   "outputs": [
    {
     "data": {
      "text/plain": [
       "torch.Size([18])"
      ]
     },
     "execution_count": 25,
     "metadata": {},
     "output_type": "execute_result"
    }
   ],
   "source": [
    "a.shape"
   ]
  },
  {
   "cell_type": "code",
   "execution_count": 26,
   "metadata": {},
   "outputs": [
    {
     "data": {
      "text/plain": [
       "tensor([[ 0,  1,  2,  3,  4,  5,  6,  7,  8],\n",
       "        [ 9, 10, 11, 12, 13, 14, 15, 16, 17]])"
      ]
     },
     "execution_count": 26,
     "metadata": {},
     "output_type": "execute_result"
    }
   ],
   "source": [
    "# https://pytorch.org/docs/stable/generated/torch.Tensor.view.html#torch.Tensor.view\n",
    "a.view([2, 9])"
   ]
  },
  {
   "cell_type": "code",
   "execution_count": 27,
   "metadata": {},
   "outputs": [
    {
     "data": {
      "text/plain": [
       "tensor([[[ 0,  1],\n",
       "         [ 2,  3],\n",
       "         [ 4,  5]],\n",
       "\n",
       "        [[ 6,  7],\n",
       "         [ 8,  9],\n",
       "         [10, 11]],\n",
       "\n",
       "        [[12, 13],\n",
       "         [14, 15],\n",
       "         [16, 17]]])"
      ]
     },
     "execution_count": 27,
     "metadata": {},
     "output_type": "execute_result"
    }
   ],
   "source": [
    "# This will work as long as the number of elements multiplied is the same as the original shape\n",
    "a.view([3, 3, 2])"
   ]
  },
  {
   "cell_type": "code",
   "execution_count": 28,
   "metadata": {},
   "outputs": [
    {
     "data": {
      "text/plain": [
       " 0\n",
       " 1\n",
       " 2\n",
       " 3\n",
       " 4\n",
       " 5\n",
       " 6\n",
       " 7\n",
       " 8\n",
       " 9\n",
       " 10\n",
       " 11\n",
       " 12\n",
       " 13\n",
       " 14\n",
       " 15\n",
       " 16\n",
       " 17\n",
       "[torch.storage._TypedStorage(dtype=torch.int64, device=cpu) of size 18]"
      ]
     },
     "execution_count": 28,
     "metadata": {},
     "output_type": "execute_result"
    }
   ],
   "source": [
    "a.storage()"
   ]
  },
  {
   "cell_type": "markdown",
   "metadata": {},
   "source": [
    "## Super important note\n",
    "\n",
    "Resource: http://blog.ezyang.com/2019/05/pytorch-internals/\n",
    "\n",
    "So the numbers are actually stored as a linear sequence\n",
    "\n",
    "But in a tensor, it has internal attributes that dictate the logical view\n",
    "\n",
    "So when we call tensor.view(), we are actually changing these attributes and not the real data\n",
    "\n",
    "Read the blog post for more information!!!"
   ]
  },
  {
   "cell_type": "code",
   "execution_count": 29,
   "metadata": {},
   "outputs": [
    {
     "data": {
      "text/plain": [
       "tensor([[True, True, True, True, True, True],\n",
       "        [True, True, True, True, True, True],\n",
       "        [True, True, True, True, True, True],\n",
       "        [True, True, True, True, True, True],\n",
       "        [True, True, True, True, True, True],\n",
       "        [True, True, True, True, True, True],\n",
       "        [True, True, True, True, True, True],\n",
       "        [True, True, True, True, True, True],\n",
       "        [True, True, True, True, True, True],\n",
       "        [True, True, True, True, True, True],\n",
       "        [True, True, True, True, True, True],\n",
       "        [True, True, True, True, True, True],\n",
       "        [True, True, True, True, True, True],\n",
       "        [True, True, True, True, True, True],\n",
       "        [True, True, True, True, True, True],\n",
       "        [True, True, True, True, True, True],\n",
       "        [True, True, True, True, True, True],\n",
       "        [True, True, True, True, True, True],\n",
       "        [True, True, True, True, True, True],\n",
       "        [True, True, True, True, True, True],\n",
       "        [True, True, True, True, True, True],\n",
       "        [True, True, True, True, True, True],\n",
       "        [True, True, True, True, True, True],\n",
       "        [True, True, True, True, True, True],\n",
       "        [True, True, True, True, True, True],\n",
       "        [True, True, True, True, True, True],\n",
       "        [True, True, True, True, True, True],\n",
       "        [True, True, True, True, True, True],\n",
       "        [True, True, True, True, True, True],\n",
       "        [True, True, True, True, True, True],\n",
       "        [True, True, True, True, True, True],\n",
       "        [True, True, True, True, True, True]])"
      ]
     },
     "execution_count": 29,
     "metadata": {},
     "output_type": "execute_result"
    }
   ],
   "source": [
    "# We can simply change the view of emb to [32, 6] in this case !!!\n",
    "emb.view(32, 6) == torch.cat(torch.unbind(emb, dim=1), dim=1)"
   ]
  },
  {
   "cell_type": "markdown",
   "metadata": {},
   "source": [
    "## Hidden state"
   ]
  },
  {
   "cell_type": "code",
   "execution_count": 30,
   "metadata": {},
   "outputs": [
    {
     "data": {
      "text/plain": [
       "tensor([[-0.7090, -1.8889,  7.2768,  ...,  3.9304,  2.7569, -1.0189],\n",
       "        [-0.8784, -3.5821,  5.1468,  ...,  2.6142,  2.4276,  0.8652],\n",
       "        [ 1.3513, -2.2935,  6.9777,  ...,  4.2449,  8.4667,  0.0715],\n",
       "        ...,\n",
       "        [ 2.9333, -0.5562, -3.0146,  ..., -1.5018,  1.2775, -3.8958],\n",
       "        [-0.3816, -0.3535, -0.9399,  ..., -0.2754, -0.0401, -1.9325],\n",
       "        [-0.3306,  1.7192,  5.6176,  ...,  2.1652,  0.5499, -0.5547]])"
      ]
     },
     "execution_count": 30,
     "metadata": {},
     "output_type": "execute_result"
    }
   ],
   "source": [
    "h = emb.view(32, 6) @ W1 + b1\n",
    "h"
   ]
  },
  {
   "cell_type": "code",
   "execution_count": 31,
   "metadata": {},
   "outputs": [
    {
     "data": {
      "text/plain": [
       "torch.Size([32, 100])"
      ]
     },
     "execution_count": 31,
     "metadata": {},
     "output_type": "execute_result"
    }
   ],
   "source": [
    "h.shape # 100 hidden states for each example"
   ]
  },
  {
   "cell_type": "code",
   "execution_count": 32,
   "metadata": {},
   "outputs": [],
   "source": [
    "# When we use -1, PyTorch will infer about the dimension\n",
    "# And because the other dim is 6, PyTorch will know this first dim is 32\n",
    "h = emb.view(-1, 6) @ W1 + b1\n",
    "\n",
    "# We can also write:\n",
    "h = emb.view(emb.shape[0], 6) @ W1 + b1"
   ]
  },
  {
   "cell_type": "code",
   "execution_count": 33,
   "metadata": {},
   "outputs": [
    {
     "data": {
      "text/plain": [
       "tensor([[-0.6100, -0.9553,  1.0000,  ...,  0.9992,  0.9920, -0.7694],\n",
       "        [-0.7056, -0.9985,  0.9999,  ...,  0.9893,  0.9845,  0.6989],\n",
       "        [ 0.8744, -0.9798,  1.0000,  ...,  0.9996,  1.0000,  0.0714],\n",
       "        ...,\n",
       "        [ 0.9944, -0.5051, -0.9952,  ..., -0.9055,  0.8558, -0.9992],\n",
       "        [-0.3641, -0.3394, -0.7352,  ..., -0.2686, -0.0401, -0.9589],\n",
       "        [-0.3191,  0.9378,  1.0000,  ...,  0.9740,  0.5004, -0.5041]])"
      ]
     },
     "execution_count": 33,
     "metadata": {},
     "output_type": "execute_result"
    }
   ],
   "source": [
    "# With activation function\n",
    "h = torch.tanh(emb.view(-1, 6) @ W1 + b1)\n",
    "h"
   ]
  },
  {
   "cell_type": "code",
   "execution_count": 34,
   "metadata": {},
   "outputs": [
    {
     "data": {
      "text/plain": [
       "torch.Size([32, 100])"
      ]
     },
     "execution_count": 34,
     "metadata": {},
     "output_type": "execute_result"
    }
   ],
   "source": [
    "(emb.view(-1, 6) @ W1).shape"
   ]
  },
  {
   "cell_type": "code",
   "execution_count": 35,
   "metadata": {},
   "outputs": [
    {
     "data": {
      "text/plain": [
       "torch.Size([100])"
      ]
     },
     "execution_count": 35,
     "metadata": {},
     "output_type": "execute_result"
    }
   ],
   "source": [
    "b1.shape"
   ]
  },
  {
   "cell_type": "code",
   "execution_count": 36,
   "metadata": {},
   "outputs": [
    {
     "data": {
      "text/plain": [
       "'\\nBroadcasting with + will work\\n32  100\\n1   100\\n\\nSo bias will be copied vertically for 32 examples\\n'"
      ]
     },
     "execution_count": 36,
     "metadata": {},
     "output_type": "execute_result"
    }
   ],
   "source": [
    "\"\"\"\n",
    "Broadcasting with + will work\n",
    "32  100\n",
    "1   100\n",
    "\n",
    "So bias will be copied vertically for 32 examples\n",
    "\"\"\""
   ]
  },
  {
   "cell_type": "markdown",
   "metadata": {},
   "source": [
    "# Build the last layer"
   ]
  },
  {
   "cell_type": "code",
   "execution_count": 37,
   "metadata": {},
   "outputs": [],
   "source": [
    "W2 = torch.randn(100, 27) # 100 hidden state as input, 27 possible character output\n",
    "b2 = torch.randn(27)"
   ]
  },
  {
   "cell_type": "code",
   "execution_count": 38,
   "metadata": {},
   "outputs": [],
   "source": [
    "logits = h @ W2 + b2"
   ]
  },
  {
   "cell_type": "code",
   "execution_count": 39,
   "metadata": {},
   "outputs": [
    {
     "data": {
      "text/plain": [
       "torch.Size([32, 27])"
      ]
     },
     "execution_count": 39,
     "metadata": {},
     "output_type": "execute_result"
    }
   ],
   "source": [
    "logits.shape"
   ]
  },
  {
   "cell_type": "code",
   "execution_count": 40,
   "metadata": {},
   "outputs": [],
   "source": [
    "# The same as in previous makemore video (Check it again)\n",
    "counts = logits.exp()\n",
    "prob = counts / counts.sum(1, keepdim=True)"
   ]
  },
  {
   "cell_type": "code",
   "execution_count": 41,
   "metadata": {},
   "outputs": [
    {
     "data": {
      "text/plain": [
       "torch.Size([32, 27])"
      ]
     },
     "execution_count": 41,
     "metadata": {},
     "output_type": "execute_result"
    }
   ],
   "source": [
    "prob.shape"
   ]
  },
  {
   "cell_type": "code",
   "execution_count": 42,
   "metadata": {},
   "outputs": [
    {
     "data": {
      "text/plain": [
       "tensor(1.)"
      ]
     },
     "execution_count": 42,
     "metadata": {},
     "output_type": "execute_result"
    }
   ],
   "source": [
    "prob[0].sum()"
   ]
  },
  {
   "cell_type": "markdown",
   "metadata": {},
   "source": [
    "# Calculate loss"
   ]
  },
  {
   "cell_type": "code",
   "execution_count": 43,
   "metadata": {},
   "outputs": [
    {
     "data": {
      "text/plain": [
       "tensor([ 0,  1,  2,  3,  4,  5,  6,  7,  8,  9, 10, 11, 12, 13, 14, 15, 16, 17,\n",
       "        18, 19, 20, 21, 22, 23, 24, 25, 26, 27, 28, 29, 30, 31])"
      ]
     },
     "execution_count": 43,
     "metadata": {},
     "output_type": "execute_result"
    }
   ],
   "source": [
    "torch.arange(32)"
   ]
  },
  {
   "cell_type": "code",
   "execution_count": 44,
   "metadata": {},
   "outputs": [
    {
     "data": {
      "text/plain": [
       "torch.Size([32])"
      ]
     },
     "execution_count": 44,
     "metadata": {},
     "output_type": "execute_result"
    }
   ],
   "source": [
    "# Iterate each row (example)\n",
    "# For each example, get the probability of the example output (target result)\n",
    "prob[torch.arange(32), Y].shape"
   ]
  },
  {
   "cell_type": "code",
   "execution_count": 45,
   "metadata": {},
   "outputs": [
    {
     "data": {
      "text/plain": [
       "tensor([5.6040e-04, 6.0376e-08, 8.7784e-04, 5.5655e-05, 6.7867e-15, 2.3699e-11,\n",
       "        1.1533e-08, 9.2885e-01, 4.8408e-10, 2.5081e-11, 5.7503e-09, 2.4384e-06,\n",
       "        1.3074e-12, 4.4449e-02, 3.5474e-13, 2.3259e-15, 8.1124e-11, 4.0173e-12,\n",
       "        8.5903e-11, 2.1572e-11, 6.7124e-04, 4.4175e-14, 8.6900e-10, 5.7568e-07,\n",
       "        1.7174e-03, 7.2316e-11, 2.1315e-08, 2.0514e-06, 1.6656e-09, 3.3379e-06,\n",
       "        6.5994e-07, 5.0378e-02])"
      ]
     },
     "execution_count": 45,
     "metadata": {},
     "output_type": "execute_result"
    }
   ],
   "source": [
    "prob[torch.arange(32), Y]"
   ]
  },
  {
   "cell_type": "code",
   "execution_count": 46,
   "metadata": {},
   "outputs": [
    {
     "data": {
      "text/plain": [
       "tensor(17.7500)"
      ]
     },
     "execution_count": 46,
     "metadata": {},
     "output_type": "execute_result"
    }
   ],
   "source": [
    "# Average negative log likelihood\n",
    "loss = -prob[torch.arange(32), Y].log().mean()\n",
    "loss"
   ]
  },
  {
   "cell_type": "markdown",
   "metadata": {},
   "source": [
    "# Rewrote everything in one code"
   ]
  },
  {
   "cell_type": "code",
   "execution_count": 47,
   "metadata": {},
   "outputs": [
    {
     "data": {
      "text/plain": [
       "(torch.Size([32, 3]), torch.Size([32]))"
      ]
     },
     "execution_count": 47,
     "metadata": {},
     "output_type": "execute_result"
    }
   ],
   "source": [
    "X.shape, Y.shape # dataset"
   ]
  },
  {
   "cell_type": "code",
   "execution_count": 48,
   "metadata": {},
   "outputs": [],
   "source": [
    "g = torch.Generator().manual_seed(2147483647)\n",
    "C = torch.randn((27, 2), generator=g)\n",
    "W1 = torch.randn((6, 100), generator=g)\n",
    "b1 = torch.randn(100, generator=g)\n",
    "W2 = torch.randn((100, 27), generator=g)\n",
    "b2 = torch.randn(27, generator=g)\n",
    "parameters = [C, W1, b1, W2, b2]"
   ]
  },
  {
   "cell_type": "code",
   "execution_count": 49,
   "metadata": {},
   "outputs": [
    {
     "data": {
      "text/plain": [
       "3481"
      ]
     },
     "execution_count": 49,
     "metadata": {},
     "output_type": "execute_result"
    }
   ],
   "source": [
    "sum(p.nelement() for p in parameters) # Number of parameters in the model"
   ]
  },
  {
   "cell_type": "code",
   "execution_count": 50,
   "metadata": {},
   "outputs": [
    {
     "data": {
      "text/plain": [
       "tensor(17.7697)"
      ]
     },
     "execution_count": 50,
     "metadata": {},
     "output_type": "execute_result"
    }
   ],
   "source": [
    "emb = C[X] # 32, 3, 2 (32 examples, len-3 context window, len-2 embedding)\n",
    "h = torch.tanh(emb.view(-1, 6) @ W1 + b1)\n",
    "logits = h @ W2 + b2 # we view this as log of counts\n",
    "counts = logits.exp()\n",
    "prob = counts / counts.sum(dim=1, keepdim=True)\n",
    "loss = -prob[torch.arange(32), Y].log().mean()\n",
    "loss"
   ]
  },
  {
   "cell_type": "markdown",
   "metadata": {},
   "source": [
    "## Explain why cross_entropy is better than writing our own code"
   ]
  },
  {
   "cell_type": "code",
   "execution_count": 51,
   "metadata": {},
   "outputs": [
    {
     "data": {
      "text/plain": [
       "tensor(17.7697)"
      ]
     },
     "execution_count": 51,
     "metadata": {},
     "output_type": "execute_result"
    }
   ],
   "source": [
    "# Equivalent to above code for loss\n",
    "# But we will always use this in practice because it's more efficient\n",
    "\n",
    "# First reason: Forward pass is more efficient\n",
    "# Doing intermediate steps like above will create extra tensors/memory\n",
    "# cross_entropy will not create much extra memory\n",
    "\n",
    "# Second reason: Backward pass is more efficient\n",
    "# cross_entropy will cluster multiple mathematical operations into one expression\n",
    "# Thus, the backward formula can be simpler\n",
    "# We can take the implementation of tanh() in micrograd project as an example\n",
    "# Because tanh is a combined expression, the backward formula is a lot simpler mathematically\n",
    "#   comparing to if we calculate each component of tanh() individually and backward from there\n",
    "\n",
    "# Third reason: Avoid problem with numerical overflow\n",
    "# cross_entropy under the hood will be more numerically well behaved\n",
    "\n",
    "F.cross_entropy(logits, Y)"
   ]
  },
  {
   "cell_type": "code",
   "execution_count": 52,
   "metadata": {},
   "outputs": [
    {
     "data": {
      "text/plain": [
       "tensor([0., 0., 0., nan])"
      ]
     },
     "execution_count": 52,
     "metadata": {},
     "output_type": "execute_result"
    }
   ],
   "source": [
    "logits = torch.tensor([-100, -3, 0, 100])\n",
    "counts = logits.exp()\n",
    "probs = counts / counts.sum()\n",
    "probs"
   ]
  },
  {
   "cell_type": "code",
   "execution_count": 53,
   "metadata": {},
   "outputs": [
    {
     "data": {
      "text/plain": [
       "tensor([3.7835e-44, 4.9787e-02, 1.0000e+00,        inf])"
      ]
     },
     "execution_count": 53,
     "metadata": {},
     "output_type": "execute_result"
    }
   ],
   "source": [
    "counts"
   ]
  },
  {
   "cell_type": "code",
   "execution_count": 54,
   "metadata": {},
   "outputs": [
    {
     "data": {
      "text/plain": [
       "tensor([0.0000e+00, 1.4013e-45, 3.7835e-44, 1.0000e+00])"
      ]
     },
     "execution_count": 54,
     "metadata": {},
     "output_type": "execute_result"
    }
   ],
   "source": [
    "# Extreme negative works fine with e^x, but extreme positive will lead to +inf\n",
    "# PyTorch solves this by offseting the logits by the max number\n",
    "# This works because we are aiming for the probability distribution, so offseting will NOT change the probs distribution\n",
    "\n",
    "logits = torch.tensor([-100, -3, 0, 100]) - 100\n",
    "counts = logits.exp()\n",
    "probs = counts / counts.sum()\n",
    "probs"
   ]
  },
  {
   "cell_type": "code",
   "execution_count": 55,
   "metadata": {},
   "outputs": [
    {
     "name": "stdout",
     "output_type": "stream",
     "text": [
      "tensor([4.5079e-05, 3.3309e-04, 6.6903e-03, 9.9293e-01])\n",
      "tensor([4.5079e-05, 3.3309e-04, 6.6903e-03, 9.9293e-01])\n"
     ]
    },
    {
     "data": {
      "text/plain": [
       "'\\nPROOF:\\n[a, b]\\n-> prob of a = e^a / (e^a + e^b)\\n\\n[a-x, b-x]\\n-> prob of a = e^(a-x) / (e^(a-x) + e^(b-x)) = (e^a/e^x) / (e^a/e^x + e^b/e^x) = e^a / (e^a + e^b)\\n'"
      ]
     },
     "execution_count": 55,
     "metadata": {},
     "output_type": "execute_result"
    }
   ],
   "source": [
    "logits = torch.tensor([-5, -3, 0, 5])\n",
    "counts = logits.exp()\n",
    "probs = counts / counts.sum()\n",
    "print(probs)\n",
    "\n",
    "logits = torch.tensor([-5, -3, 0, 5]) - 5\n",
    "counts = logits.exp()\n",
    "probs = counts / counts.sum()\n",
    "print(probs)\n",
    "\n",
    "\"\"\"\n",
    "PROOF:\n",
    "[a, b]\n",
    "-> prob of a = e^a / (e^a + e^b)\n",
    "\n",
    "[a-x, b-x]\n",
    "-> prob of a = e^(a-x) / (e^(a-x) + e^(b-x)) = (e^a/e^x) / (e^a/e^x + e^b/e^x) = e^a / (e^a + e^b)\n",
    "\"\"\""
   ]
  },
  {
   "cell_type": "markdown",
   "metadata": {},
   "source": [
    "## Back to our main code"
   ]
  },
  {
   "cell_type": "code",
   "execution_count": 56,
   "metadata": {},
   "outputs": [],
   "source": [
    "for p in parameters:\n",
    "    p.requires_grad = True"
   ]
  },
  {
   "cell_type": "code",
   "execution_count": 57,
   "metadata": {},
   "outputs": [
    {
     "name": "stdout",
     "output_type": "stream",
     "text": [
      "17.769712448120117\n",
      "13.656400680541992\n",
      "11.298768997192383\n",
      "9.452457427978516\n",
      "7.984262943267822\n",
      "6.891321659088135\n",
      "6.100014686584473\n",
      "5.452036380767822\n",
      "4.898151874542236\n",
      "4.414664268493652\n",
      "3.985849618911743\n",
      "3.602830648422241\n",
      "3.262141704559326\n",
      "2.961381196975708\n",
      "2.6982967853546143\n",
      "2.469712734222412\n",
      "2.271660566329956\n",
      "2.1012837886810303\n",
      "1.9571770429611206\n",
      "1.8374860286712646\n",
      "1.7380967140197754\n",
      "1.6535112857818604\n",
      "1.5790899991989136\n",
      "1.5117664337158203\n",
      "1.4496046304702759\n",
      "1.3913123607635498\n",
      "1.3359925746917725\n",
      "1.283052682876587\n",
      "1.2321908473968506\n",
      "1.18338143825531\n",
      "1.1367990970611572\n",
      "1.092664361000061\n",
      "1.0510927438735962\n",
      "1.0120267868041992\n",
      "0.9752705097198486\n",
      "0.9405566453933716\n",
      "0.9076124429702759\n",
      "0.8761922717094421\n",
      "0.8460888862609863\n",
      "0.8171358704566956\n",
      "0.7891993522644043\n",
      "0.7621748447418213\n",
      "0.7359814047813416\n",
      "0.7105579376220703\n",
      "0.6858611702919006\n",
      "0.6618651747703552\n",
      "0.6385655403137207\n",
      "0.6159819960594177\n",
      "0.5941659212112427\n",
      "0.5732103586196899\n",
      "0.5532562136650085\n",
      "0.5344882011413574\n",
      "0.5171167850494385\n",
      "0.5013314485549927\n",
      "0.48724254965782166\n",
      "0.4748404324054718\n",
      "0.46399766206741333\n",
      "0.45451441407203674\n",
      "0.4461708068847656\n",
      "0.4387663006782532\n",
      "0.43213313817977905\n",
      "0.4261389374732971\n",
      "0.42067980766296387\n",
      "0.41567543148994446\n",
      "0.4110613167285919\n",
      "0.40678727626800537\n",
      "0.4028107225894928\n",
      "0.3990972936153412\n",
      "0.3956179618835449\n",
      "0.3923478126525879\n",
      "0.3892652690410614\n",
      "0.3863520622253418\n",
      "0.3835916817188263\n",
      "0.3809700608253479\n",
      "0.3784741759300232\n",
      "0.3760931193828583\n",
      "0.3738164007663727\n",
      "0.3716351091861725\n",
      "0.3695409893989563\n",
      "0.3675267696380615\n",
      "0.36558565497398376\n",
      "0.3637113571166992\n",
      "0.3618983030319214\n",
      "0.3601415753364563\n",
      "0.35843637585639954\n",
      "0.3567781150341034\n",
      "0.35516270995140076\n",
      "0.35358694195747375\n",
      "0.35204699635505676\n",
      "0.35053980350494385\n",
      "0.3490624725818634\n",
      "0.347612202167511\n",
      "0.34618663787841797\n",
      "0.3447835445404053\n",
      "0.3434010148048401\n",
      "0.34203681349754333\n",
      "0.3406897783279419\n",
      "0.3393585681915283\n",
      "0.33804193139076233\n",
      "0.3367387652397156\n"
     ]
    }
   ],
   "source": [
    "for _ in range(100):\n",
    "    # Forward pass\n",
    "    emb = C[X] # 32, 3, 2 (32 examples, len-3 context window, len-2 embedding)\n",
    "    h = torch.tanh(emb.view(-1, 6) @ W1 + b1)\n",
    "    logits = h @ W2 + b2 # we view this as log of counts\n",
    "    loss = F.cross_entropy(logits, Y)\n",
    "    print(loss.item())\n",
    "\n",
    "    # Backward pass\n",
    "    for p in parameters:\n",
    "        p.grad = None\n",
    "    loss.backward()\n",
    "\n",
    "    # Update parameters\n",
    "    for p in parameters:\n",
    "        p.data += -0.1 * p.grad"
   ]
  },
  {
   "cell_type": "code",
   "execution_count": 58,
   "metadata": {},
   "outputs": [
    {
     "data": {
      "text/plain": [
       "torch.return_types.max(\n",
       "values=tensor([11.3379, 13.0894, 18.9434, 17.5786, 12.7205, 11.3379, 13.0234, 11.5993,\n",
       "        13.5442, 15.5540, 12.5548, 17.6663, 11.3379, 12.6919, 13.9530, 17.0410,\n",
       "        11.3379, 13.8052, 11.4075, 13.1371, 15.8441, 12.1391,  7.9167,  7.8798,\n",
       "        13.8773, 11.3379, 13.0983, 13.6820, 11.2885, 14.2338, 15.6165, 12.0455],\n",
       "       grad_fn=<MaxBackward0>),\n",
       "indices=tensor([ 1, 13, 13,  1,  0,  1, 12,  9, 22,  9,  1,  0,  1, 22,  1,  0,  1, 19,\n",
       "         1,  2,  5, 12, 12,  1,  0,  1, 15, 16,  8,  9,  1,  0]))"
      ]
     },
     "execution_count": 58,
     "metadata": {},
     "output_type": "execute_result"
    }
   ],
   "source": [
    "logits.max(dim=1) # return max in each row, since we search for max column-wise"
   ]
  },
  {
   "cell_type": "code",
   "execution_count": 59,
   "metadata": {},
   "outputs": [
    {
     "data": {
      "text/plain": [
       "tensor([ 5, 13, 13,  1,  0, 15, 12,  9, 22,  9,  1,  0,  1, 22,  1,  0,  9, 19,\n",
       "         1,  2,  5, 12, 12,  1,  0, 19, 15, 16,  8,  9,  1,  0])"
      ]
     },
     "execution_count": 59,
     "metadata": {},
     "output_type": "execute_result"
    }
   ],
   "source": [
    "\"\"\"\n",
    "We cannot make loss exactly 0 because there are examples like ... can lead to many possible next letters\n",
    "\"\"\"\n",
    "Y # The logits should look very similar to target if trained for a long time"
   ]
  },
  {
   "cell_type": "markdown",
   "metadata": {},
   "source": [
    "# Build dataset with all data (not just 5 examples)"
   ]
  },
  {
   "cell_type": "code",
   "execution_count": 60,
   "metadata": {},
   "outputs": [],
   "source": [
    "block_size = 3 # context length: how many characters we take to predict the next one?\n",
    "X, Y = [], []\n",
    "\n",
    "for w in words:\n",
    "    context = [0] * block_size\n",
    "    for ch in w + '.':\n",
    "        ix = stoi[ch]\n",
    "        X.append(context)\n",
    "        Y.append(ix)\n",
    "        context = context[1:] + [ix] # crop oldes element and append the new one\n",
    "\n",
    "X = torch.tensor(X)\n",
    "Y = torch.tensor(Y)"
   ]
  },
  {
   "cell_type": "code",
   "execution_count": 61,
   "metadata": {},
   "outputs": [
    {
     "data": {
      "text/plain": [
       "(torch.Size([228146, 3]), torch.int64, torch.Size([228146]), torch.int64)"
      ]
     },
     "execution_count": 61,
     "metadata": {},
     "output_type": "execute_result"
    }
   ],
   "source": [
    "X.shape, X.dtype, Y.shape, Y.dtype"
   ]
  },
  {
   "cell_type": "code",
   "execution_count": 62,
   "metadata": {},
   "outputs": [],
   "source": [
    "g = torch.Generator().manual_seed(2147483647)\n",
    "C = torch.randn((27, 2), generator=g)\n",
    "W1 = torch.randn((6, 100), generator=g)\n",
    "b1 = torch.randn(100, generator=g)\n",
    "W2 = torch.randn((100, 27), generator=g)\n",
    "b2 = torch.randn(27, generator=g)\n",
    "parameters = [C, W1, b1, W2, b2]"
   ]
  },
  {
   "cell_type": "code",
   "execution_count": 63,
   "metadata": {},
   "outputs": [
    {
     "data": {
      "text/plain": [
       "3481"
      ]
     },
     "execution_count": 63,
     "metadata": {},
     "output_type": "execute_result"
    }
   ],
   "source": [
    "sum(p.nelement() for p in parameters) # Number of parameters in the model"
   ]
  },
  {
   "cell_type": "code",
   "execution_count": 64,
   "metadata": {},
   "outputs": [],
   "source": [
    "for p in parameters:\n",
    "    p.requires_grad = True"
   ]
  },
  {
   "cell_type": "markdown",
   "metadata": {},
   "source": [
    "## Make minibatch\n",
    "\n",
    "Instead of training on the whole dataset, we will generate minibatches and train on minibatches instead"
   ]
  },
  {
   "cell_type": "code",
   "execution_count": 65,
   "metadata": {},
   "outputs": [
    {
     "data": {
      "text/plain": [
       "tensor([ 44150,  39341,  60781, 143247, 185933,  73287,  62286,  78621, 227151,\n",
       "         77257, 197628,  10933, 103760,  68782, 195739,  68194,  70361,  97900,\n",
       "        113740, 109354, 209803, 102519,  52459, 106435, 101564,  40616,  59389,\n",
       "        214077, 219436, 118287, 157694,   2294])"
      ]
     },
     "execution_count": 65,
     "metadata": {},
     "output_type": "execute_result"
    }
   ],
   "source": [
    "torch.randint(0, X.shape[0], (32,)) # X.shape[0] is the number of examples"
   ]
  },
  {
   "cell_type": "code",
   "execution_count": 66,
   "metadata": {},
   "outputs": [
    {
     "data": {
      "text/plain": [
       "tensor([0.0010, 0.0010, 0.0010, 0.0010, 0.0010, 0.0010, 0.0010, 0.0010, 0.0011,\n",
       "        0.0011, 0.0011, 0.0011, 0.0011, 0.0011, 0.0011, 0.0011, 0.0011, 0.0011,\n",
       "        0.0011, 0.0011, 0.0011, 0.0012, 0.0012, 0.0012, 0.0012, 0.0012, 0.0012,\n",
       "        0.0012, 0.0012, 0.0012, 0.0012, 0.0012, 0.0012, 0.0013, 0.0013, 0.0013,\n",
       "        0.0013, 0.0013, 0.0013, 0.0013, 0.0013, 0.0013, 0.0013, 0.0013, 0.0014,\n",
       "        0.0014, 0.0014, 0.0014, 0.0014, 0.0014, 0.0014, 0.0014, 0.0014, 0.0014,\n",
       "        0.0015, 0.0015, 0.0015, 0.0015, 0.0015, 0.0015, 0.0015, 0.0015, 0.0015,\n",
       "        0.0015, 0.0016, 0.0016, 0.0016, 0.0016, 0.0016, 0.0016, 0.0016, 0.0016,\n",
       "        0.0016, 0.0017, 0.0017, 0.0017, 0.0017, 0.0017, 0.0017, 0.0017, 0.0017,\n",
       "        0.0018, 0.0018, 0.0018, 0.0018, 0.0018, 0.0018, 0.0018, 0.0018, 0.0019,\n",
       "        0.0019, 0.0019, 0.0019, 0.0019, 0.0019, 0.0019, 0.0019, 0.0020, 0.0020,\n",
       "        0.0020, 0.0020, 0.0020, 0.0020, 0.0020, 0.0021, 0.0021, 0.0021, 0.0021,\n",
       "        0.0021, 0.0021, 0.0021, 0.0022, 0.0022, 0.0022, 0.0022, 0.0022, 0.0022,\n",
       "        0.0022, 0.0023, 0.0023, 0.0023, 0.0023, 0.0023, 0.0023, 0.0024, 0.0024,\n",
       "        0.0024, 0.0024, 0.0024, 0.0024, 0.0025, 0.0025, 0.0025, 0.0025, 0.0025,\n",
       "        0.0025, 0.0026, 0.0026, 0.0026, 0.0026, 0.0026, 0.0027, 0.0027, 0.0027,\n",
       "        0.0027, 0.0027, 0.0027, 0.0028, 0.0028, 0.0028, 0.0028, 0.0028, 0.0029,\n",
       "        0.0029, 0.0029, 0.0029, 0.0029, 0.0030, 0.0030, 0.0030, 0.0030, 0.0030,\n",
       "        0.0031, 0.0031, 0.0031, 0.0031, 0.0032, 0.0032, 0.0032, 0.0032, 0.0032,\n",
       "        0.0033, 0.0033, 0.0033, 0.0033, 0.0034, 0.0034, 0.0034, 0.0034, 0.0034,\n",
       "        0.0035, 0.0035, 0.0035, 0.0035, 0.0036, 0.0036, 0.0036, 0.0036, 0.0037,\n",
       "        0.0037, 0.0037, 0.0037, 0.0038, 0.0038, 0.0038, 0.0039, 0.0039, 0.0039,\n",
       "        0.0039, 0.0040, 0.0040, 0.0040, 0.0040, 0.0041, 0.0041, 0.0041, 0.0042,\n",
       "        0.0042, 0.0042, 0.0042, 0.0043, 0.0043, 0.0043, 0.0044, 0.0044, 0.0044,\n",
       "        0.0045, 0.0045, 0.0045, 0.0045, 0.0046, 0.0046, 0.0046, 0.0047, 0.0047,\n",
       "        0.0047, 0.0048, 0.0048, 0.0048, 0.0049, 0.0049, 0.0049, 0.0050, 0.0050,\n",
       "        0.0050, 0.0051, 0.0051, 0.0051, 0.0052, 0.0052, 0.0053, 0.0053, 0.0053,\n",
       "        0.0054, 0.0054, 0.0054, 0.0055, 0.0055, 0.0056, 0.0056, 0.0056, 0.0057,\n",
       "        0.0057, 0.0058, 0.0058, 0.0058, 0.0059, 0.0059, 0.0060, 0.0060, 0.0060,\n",
       "        0.0061, 0.0061, 0.0062, 0.0062, 0.0062, 0.0063, 0.0063, 0.0064, 0.0064,\n",
       "        0.0065, 0.0065, 0.0066, 0.0066, 0.0067, 0.0067, 0.0067, 0.0068, 0.0068,\n",
       "        0.0069, 0.0069, 0.0070, 0.0070, 0.0071, 0.0071, 0.0072, 0.0072, 0.0073,\n",
       "        0.0073, 0.0074, 0.0074, 0.0075, 0.0075, 0.0076, 0.0076, 0.0077, 0.0077,\n",
       "        0.0078, 0.0079, 0.0079, 0.0080, 0.0080, 0.0081, 0.0081, 0.0082, 0.0082,\n",
       "        0.0083, 0.0084, 0.0084, 0.0085, 0.0085, 0.0086, 0.0086, 0.0087, 0.0088,\n",
       "        0.0088, 0.0089, 0.0090, 0.0090, 0.0091, 0.0091, 0.0092, 0.0093, 0.0093,\n",
       "        0.0094, 0.0095, 0.0095, 0.0096, 0.0097, 0.0097, 0.0098, 0.0099, 0.0099,\n",
       "        0.0100, 0.0101, 0.0101, 0.0102, 0.0103, 0.0104, 0.0104, 0.0105, 0.0106,\n",
       "        0.0106, 0.0107, 0.0108, 0.0109, 0.0109, 0.0110, 0.0111, 0.0112, 0.0112,\n",
       "        0.0113, 0.0114, 0.0115, 0.0116, 0.0116, 0.0117, 0.0118, 0.0119, 0.0120,\n",
       "        0.0121, 0.0121, 0.0122, 0.0123, 0.0124, 0.0125, 0.0126, 0.0127, 0.0127,\n",
       "        0.0128, 0.0129, 0.0130, 0.0131, 0.0132, 0.0133, 0.0134, 0.0135, 0.0136,\n",
       "        0.0137, 0.0137, 0.0138, 0.0139, 0.0140, 0.0141, 0.0142, 0.0143, 0.0144,\n",
       "        0.0145, 0.0146, 0.0147, 0.0148, 0.0149, 0.0150, 0.0151, 0.0152, 0.0154,\n",
       "        0.0155, 0.0156, 0.0157, 0.0158, 0.0159, 0.0160, 0.0161, 0.0162, 0.0163,\n",
       "        0.0165, 0.0166, 0.0167, 0.0168, 0.0169, 0.0170, 0.0171, 0.0173, 0.0174,\n",
       "        0.0175, 0.0176, 0.0178, 0.0179, 0.0180, 0.0181, 0.0182, 0.0184, 0.0185,\n",
       "        0.0186, 0.0188, 0.0189, 0.0190, 0.0192, 0.0193, 0.0194, 0.0196, 0.0197,\n",
       "        0.0198, 0.0200, 0.0201, 0.0202, 0.0204, 0.0205, 0.0207, 0.0208, 0.0210,\n",
       "        0.0211, 0.0212, 0.0214, 0.0215, 0.0217, 0.0218, 0.0220, 0.0221, 0.0223,\n",
       "        0.0225, 0.0226, 0.0228, 0.0229, 0.0231, 0.0232, 0.0234, 0.0236, 0.0237,\n",
       "        0.0239, 0.0241, 0.0242, 0.0244, 0.0246, 0.0247, 0.0249, 0.0251, 0.0253,\n",
       "        0.0254, 0.0256, 0.0258, 0.0260, 0.0261, 0.0263, 0.0265, 0.0267, 0.0269,\n",
       "        0.0271, 0.0273, 0.0274, 0.0276, 0.0278, 0.0280, 0.0282, 0.0284, 0.0286,\n",
       "        0.0288, 0.0290, 0.0292, 0.0294, 0.0296, 0.0298, 0.0300, 0.0302, 0.0304,\n",
       "        0.0307, 0.0309, 0.0311, 0.0313, 0.0315, 0.0317, 0.0320, 0.0322, 0.0324,\n",
       "        0.0326, 0.0328, 0.0331, 0.0333, 0.0335, 0.0338, 0.0340, 0.0342, 0.0345,\n",
       "        0.0347, 0.0350, 0.0352, 0.0354, 0.0357, 0.0359, 0.0362, 0.0364, 0.0367,\n",
       "        0.0369, 0.0372, 0.0375, 0.0377, 0.0380, 0.0382, 0.0385, 0.0388, 0.0390,\n",
       "        0.0393, 0.0396, 0.0399, 0.0401, 0.0404, 0.0407, 0.0410, 0.0413, 0.0416,\n",
       "        0.0418, 0.0421, 0.0424, 0.0427, 0.0430, 0.0433, 0.0436, 0.0439, 0.0442,\n",
       "        0.0445, 0.0448, 0.0451, 0.0455, 0.0458, 0.0461, 0.0464, 0.0467, 0.0471,\n",
       "        0.0474, 0.0477, 0.0480, 0.0484, 0.0487, 0.0491, 0.0494, 0.0497, 0.0501,\n",
       "        0.0504, 0.0508, 0.0511, 0.0515, 0.0518, 0.0522, 0.0526, 0.0529, 0.0533,\n",
       "        0.0537, 0.0540, 0.0544, 0.0548, 0.0552, 0.0556, 0.0559, 0.0563, 0.0567,\n",
       "        0.0571, 0.0575, 0.0579, 0.0583, 0.0587, 0.0591, 0.0595, 0.0599, 0.0604,\n",
       "        0.0608, 0.0612, 0.0616, 0.0621, 0.0625, 0.0629, 0.0634, 0.0638, 0.0642,\n",
       "        0.0647, 0.0651, 0.0656, 0.0660, 0.0665, 0.0670, 0.0674, 0.0679, 0.0684,\n",
       "        0.0688, 0.0693, 0.0698, 0.0703, 0.0708, 0.0713, 0.0718, 0.0723, 0.0728,\n",
       "        0.0733, 0.0738, 0.0743, 0.0748, 0.0753, 0.0758, 0.0764, 0.0769, 0.0774,\n",
       "        0.0780, 0.0785, 0.0790, 0.0796, 0.0802, 0.0807, 0.0813, 0.0818, 0.0824,\n",
       "        0.0830, 0.0835, 0.0841, 0.0847, 0.0853, 0.0859, 0.0865, 0.0871, 0.0877,\n",
       "        0.0883, 0.0889, 0.0895, 0.0901, 0.0908, 0.0914, 0.0920, 0.0927, 0.0933,\n",
       "        0.0940, 0.0946, 0.0953, 0.0959, 0.0966, 0.0973, 0.0979, 0.0986, 0.0993,\n",
       "        0.1000, 0.1007, 0.1014, 0.1021, 0.1028, 0.1035, 0.1042, 0.1050, 0.1057,\n",
       "        0.1064, 0.1072, 0.1079, 0.1087, 0.1094, 0.1102, 0.1109, 0.1117, 0.1125,\n",
       "        0.1133, 0.1140, 0.1148, 0.1156, 0.1164, 0.1172, 0.1181, 0.1189, 0.1197,\n",
       "        0.1205, 0.1214, 0.1222, 0.1231, 0.1239, 0.1248, 0.1256, 0.1265, 0.1274,\n",
       "        0.1283, 0.1292, 0.1301, 0.1310, 0.1319, 0.1328, 0.1337, 0.1346, 0.1356,\n",
       "        0.1365, 0.1374, 0.1384, 0.1394, 0.1403, 0.1413, 0.1423, 0.1433, 0.1443,\n",
       "        0.1453, 0.1463, 0.1473, 0.1483, 0.1493, 0.1504, 0.1514, 0.1525, 0.1535,\n",
       "        0.1546, 0.1557, 0.1567, 0.1578, 0.1589, 0.1600, 0.1611, 0.1623, 0.1634,\n",
       "        0.1645, 0.1657, 0.1668, 0.1680, 0.1691, 0.1703, 0.1715, 0.1727, 0.1739,\n",
       "        0.1751, 0.1763, 0.1775, 0.1788, 0.1800, 0.1812, 0.1825, 0.1838, 0.1850,\n",
       "        0.1863, 0.1876, 0.1889, 0.1902, 0.1916, 0.1929, 0.1942, 0.1956, 0.1969,\n",
       "        0.1983, 0.1997, 0.2010, 0.2024, 0.2038, 0.2053, 0.2067, 0.2081, 0.2096,\n",
       "        0.2110, 0.2125, 0.2140, 0.2154, 0.2169, 0.2184, 0.2200, 0.2215, 0.2230,\n",
       "        0.2246, 0.2261, 0.2277, 0.2293, 0.2309, 0.2325, 0.2341, 0.2357, 0.2373,\n",
       "        0.2390, 0.2406, 0.2423, 0.2440, 0.2457, 0.2474, 0.2491, 0.2508, 0.2526,\n",
       "        0.2543, 0.2561, 0.2579, 0.2597, 0.2615, 0.2633, 0.2651, 0.2669, 0.2688,\n",
       "        0.2707, 0.2725, 0.2744, 0.2763, 0.2783, 0.2802, 0.2821, 0.2841, 0.2861,\n",
       "        0.2880, 0.2900, 0.2921, 0.2941, 0.2961, 0.2982, 0.3002, 0.3023, 0.3044,\n",
       "        0.3065, 0.3087, 0.3108, 0.3130, 0.3151, 0.3173, 0.3195, 0.3217, 0.3240,\n",
       "        0.3262, 0.3285, 0.3308, 0.3331, 0.3354, 0.3377, 0.3400, 0.3424, 0.3448,\n",
       "        0.3472, 0.3496, 0.3520, 0.3544, 0.3569, 0.3594, 0.3619, 0.3644, 0.3669,\n",
       "        0.3695, 0.3720, 0.3746, 0.3772, 0.3798, 0.3825, 0.3851, 0.3878, 0.3905,\n",
       "        0.3932, 0.3959, 0.3987, 0.4014, 0.4042, 0.4070, 0.4098, 0.4127, 0.4155,\n",
       "        0.4184, 0.4213, 0.4243, 0.4272, 0.4302, 0.4331, 0.4362, 0.4392, 0.4422,\n",
       "        0.4453, 0.4484, 0.4515, 0.4546, 0.4578, 0.4610, 0.4642, 0.4674, 0.4706,\n",
       "        0.4739, 0.4772, 0.4805, 0.4838, 0.4872, 0.4906, 0.4940, 0.4974, 0.5008,\n",
       "        0.5043, 0.5078, 0.5113, 0.5149, 0.5185, 0.5221, 0.5257, 0.5293, 0.5330,\n",
       "        0.5367, 0.5404, 0.5442, 0.5479, 0.5517, 0.5556, 0.5594, 0.5633, 0.5672,\n",
       "        0.5712, 0.5751, 0.5791, 0.5831, 0.5872, 0.5913, 0.5954, 0.5995, 0.6036,\n",
       "        0.6078, 0.6120, 0.6163, 0.6206, 0.6249, 0.6292, 0.6336, 0.6380, 0.6424,\n",
       "        0.6469, 0.6513, 0.6559, 0.6604, 0.6650, 0.6696, 0.6743, 0.6789, 0.6837,\n",
       "        0.6884, 0.6932, 0.6980, 0.7028, 0.7077, 0.7126, 0.7176, 0.7225, 0.7275,\n",
       "        0.7326, 0.7377, 0.7428, 0.7480, 0.7531, 0.7584, 0.7636, 0.7689, 0.7743,\n",
       "        0.7796, 0.7850, 0.7905, 0.7960, 0.8015, 0.8071, 0.8127, 0.8183, 0.8240,\n",
       "        0.8297, 0.8355, 0.8412, 0.8471, 0.8530, 0.8589, 0.8648, 0.8708, 0.8769,\n",
       "        0.8830, 0.8891, 0.8953, 0.9015, 0.9077, 0.9140, 0.9204, 0.9268, 0.9332,\n",
       "        0.9397, 0.9462, 0.9528, 0.9594, 0.9660, 0.9727, 0.9795, 0.9863, 0.9931,\n",
       "        1.0000])"
      ]
     },
     "execution_count": 66,
     "metadata": {},
     "output_type": "execute_result"
    }
   ],
   "source": [
    "# torch.linspace(0.001, 1, 1000)\n",
    "\n",
    "# Instead of linearly generate the learning rate, we will generate linearly exponent, then take power to get the learning rate\n",
    "lre = torch.linspace(-3, 0, 1000)\n",
    "lrs = 10**lre\n",
    "lrs"
   ]
  },
  {
   "cell_type": "code",
   "execution_count": 67,
   "metadata": {},
   "outputs": [
    {
     "name": "stdout",
     "output_type": "stream",
     "text": [
      "18.300827026367188\n",
      "20.212379455566406\n",
      "17.98772430419922\n",
      "20.132383346557617\n",
      "21.14295196533203\n",
      "16.713306427001953\n",
      "21.21578025817871\n",
      "19.21805191040039\n",
      "20.06688117980957\n",
      "16.431724548339844\n",
      "17.552682876586914\n",
      "16.232933044433594\n",
      "17.394689559936523\n",
      "17.515522003173828\n",
      "20.80409049987793\n",
      "20.2779598236084\n",
      "19.31452751159668\n",
      "19.322486877441406\n",
      "20.22201919555664\n",
      "17.247095108032227\n",
      "21.44169044494629\n",
      "19.78266143798828\n",
      "19.032960891723633\n",
      "18.044343948364258\n",
      "19.84273338317871\n",
      "20.572837829589844\n",
      "18.539644241333008\n",
      "21.45036506652832\n",
      "19.349498748779297\n",
      "16.962146759033203\n",
      "17.48651695251465\n",
      "17.00930404663086\n",
      "18.6265869140625\n",
      "15.406128883361816\n",
      "17.563840866088867\n",
      "21.962125778198242\n",
      "18.59278678894043\n",
      "17.122146606445312\n",
      "19.07272720336914\n",
      "17.883499145507812\n",
      "19.7399959564209\n",
      "17.789493560791016\n",
      "19.562267303466797\n",
      "16.253278732299805\n",
      "17.54482650756836\n",
      "16.039941787719727\n",
      "15.82419490814209\n",
      "21.914474487304688\n",
      "16.1514892578125\n",
      "17.294614791870117\n",
      "16.363740921020508\n",
      "18.322494506835938\n",
      "15.272379875183105\n",
      "15.918646812438965\n",
      "19.775949478149414\n",
      "17.45262908935547\n",
      "19.947525024414062\n",
      "15.863256454467773\n",
      "15.527273178100586\n",
      "21.119192123413086\n",
      "18.379150390625\n",
      "18.584625244140625\n",
      "16.647415161132812\n",
      "19.030853271484375\n",
      "18.389375686645508\n",
      "19.864173889160156\n",
      "16.839975357055664\n",
      "19.245716094970703\n",
      "17.055204391479492\n",
      "18.3413028717041\n",
      "16.89256477355957\n",
      "18.68191909790039\n",
      "13.353414535522461\n",
      "16.676910400390625\n",
      "18.568464279174805\n",
      "19.834259033203125\n",
      "15.647710800170898\n",
      "18.56955337524414\n",
      "15.949381828308105\n",
      "19.820192337036133\n",
      "14.611515998840332\n",
      "16.281322479248047\n",
      "15.407744407653809\n",
      "17.724567413330078\n",
      "18.35797119140625\n",
      "17.192028045654297\n",
      "15.901422500610352\n",
      "18.557798385620117\n",
      "16.10038948059082\n",
      "16.708171844482422\n",
      "16.085311889648438\n",
      "18.024932861328125\n",
      "15.590571403503418\n",
      "16.97588348388672\n",
      "17.209251403808594\n",
      "16.246612548828125\n",
      "19.226999282836914\n",
      "17.549894332885742\n",
      "19.342618942260742\n",
      "16.940977096557617\n",
      "18.235177993774414\n",
      "21.07790184020996\n",
      "16.029598236083984\n",
      "15.722017288208008\n",
      "15.788800239562988\n",
      "18.861583709716797\n",
      "15.792251586914062\n",
      "14.764592170715332\n",
      "15.552520751953125\n",
      "17.664701461791992\n",
      "13.064824104309082\n",
      "19.06155014038086\n",
      "17.535614013671875\n",
      "17.7674503326416\n",
      "13.216301918029785\n",
      "16.42354393005371\n",
      "16.401304244995117\n",
      "13.647096633911133\n",
      "15.143226623535156\n",
      "14.96096134185791\n",
      "18.777877807617188\n",
      "17.77688980102539\n",
      "14.259483337402344\n",
      "12.737833976745605\n",
      "15.546449661254883\n",
      "17.405271530151367\n",
      "14.602931022644043\n",
      "15.418258666992188\n",
      "16.498249053955078\n",
      "14.974226951599121\n",
      "16.12032699584961\n",
      "16.745800018310547\n",
      "13.841084480285645\n",
      "14.333559036254883\n",
      "12.566502571105957\n",
      "17.29246711730957\n",
      "17.05216407775879\n",
      "13.682405471801758\n",
      "16.196680068969727\n",
      "13.76153564453125\n",
      "13.308103561401367\n",
      "16.103124618530273\n",
      "15.913281440734863\n",
      "18.59372329711914\n",
      "14.43373966217041\n",
      "14.293354034423828\n",
      "16.123144149780273\n",
      "16.206954956054688\n",
      "16.921070098876953\n",
      "15.683076858520508\n",
      "14.907374382019043\n",
      "14.530386924743652\n",
      "17.277442932128906\n",
      "16.182270050048828\n",
      "16.754615783691406\n",
      "15.117504119873047\n",
      "16.485898971557617\n",
      "17.67268943786621\n",
      "16.497760772705078\n",
      "14.48703670501709\n",
      "14.804094314575195\n",
      "17.084640502929688\n",
      "12.767698287963867\n",
      "13.460323333740234\n",
      "15.623581886291504\n",
      "14.901957511901855\n",
      "15.98962688446045\n",
      "15.725239753723145\n",
      "13.97925853729248\n",
      "13.816773414611816\n",
      "14.972606658935547\n",
      "12.128073692321777\n",
      "16.685482025146484\n",
      "16.720678329467773\n",
      "12.303218841552734\n",
      "14.678269386291504\n",
      "14.534186363220215\n",
      "14.467460632324219\n",
      "14.326313018798828\n",
      "13.55410099029541\n",
      "14.031760215759277\n",
      "13.263192176818848\n",
      "14.695508003234863\n",
      "13.499961853027344\n",
      "13.91537857055664\n",
      "13.667757034301758\n",
      "14.361335754394531\n",
      "14.744803428649902\n",
      "12.452613830566406\n",
      "14.023319244384766\n",
      "11.864449501037598\n",
      "12.721325874328613\n",
      "14.250191688537598\n",
      "12.887348175048828\n",
      "14.670594215393066\n",
      "16.432588577270508\n",
      "11.846299171447754\n",
      "11.95547103881836\n",
      "11.500175476074219\n",
      "14.967008590698242\n",
      "14.400437355041504\n",
      "14.405231475830078\n",
      "12.910869598388672\n",
      "13.306229591369629\n",
      "13.193896293640137\n",
      "15.64480209350586\n",
      "12.456809043884277\n",
      "14.777067184448242\n",
      "14.387649536132812\n",
      "15.202031135559082\n",
      "12.696389198303223\n",
      "13.28171443939209\n",
      "10.592582702636719\n",
      "12.725565910339355\n",
      "13.899113655090332\n",
      "12.151411056518555\n",
      "12.834238052368164\n",
      "12.704174041748047\n",
      "12.85038948059082\n",
      "13.576088905334473\n",
      "12.014137268066406\n",
      "11.401324272155762\n",
      "13.998478889465332\n",
      "12.345104217529297\n",
      "14.2107572555542\n",
      "10.653993606567383\n",
      "12.279783248901367\n",
      "13.083036422729492\n",
      "15.678982734680176\n",
      "10.126688003540039\n",
      "14.515308380126953\n",
      "13.066540718078613\n",
      "12.233640670776367\n",
      "11.796333312988281\n",
      "9.572659492492676\n",
      "11.06293773651123\n",
      "10.511880874633789\n",
      "12.784660339355469\n",
      "13.724495887756348\n",
      "11.808662414550781\n",
      "11.284574508666992\n",
      "13.852299690246582\n",
      "12.547901153564453\n",
      "11.324445724487305\n",
      "13.564902305603027\n",
      "11.791827201843262\n",
      "13.001655578613281\n",
      "13.34829330444336\n",
      "12.705371856689453\n",
      "12.716232299804688\n",
      "13.47398853302002\n",
      "13.214296340942383\n",
      "12.1634521484375\n",
      "12.022421836853027\n",
      "11.221495628356934\n",
      "12.064452171325684\n",
      "12.163740158081055\n",
      "12.232437133789062\n",
      "11.155855178833008\n",
      "11.679476737976074\n",
      "11.925341606140137\n",
      "11.175008773803711\n",
      "11.352802276611328\n",
      "15.317869186401367\n",
      "11.258363723754883\n",
      "11.81006145477295\n",
      "9.649358749389648\n",
      "8.53645133972168\n",
      "10.395782470703125\n",
      "10.751479148864746\n",
      "10.130640029907227\n",
      "14.666582107543945\n",
      "10.877497673034668\n",
      "13.072315216064453\n",
      "8.249388694763184\n",
      "11.349924087524414\n",
      "13.719468116760254\n",
      "12.3244047164917\n",
      "11.623674392700195\n",
      "11.469524383544922\n",
      "9.05221939086914\n",
      "13.112135887145996\n",
      "9.642187118530273\n",
      "14.02894115447998\n",
      "13.643898010253906\n",
      "9.907305717468262\n",
      "10.138421058654785\n",
      "10.463644027709961\n",
      "11.543858528137207\n",
      "11.344457626342773\n",
      "12.524715423583984\n",
      "12.734862327575684\n",
      "11.8135404586792\n",
      "11.525346755981445\n",
      "11.015227317810059\n",
      "12.432454109191895\n",
      "10.326419830322266\n",
      "9.219728469848633\n",
      "13.344843864440918\n",
      "7.232466220855713\n",
      "9.506087303161621\n",
      "10.610528945922852\n",
      "10.672101974487305\n",
      "13.174077033996582\n",
      "8.98526668548584\n",
      "12.945610046386719\n",
      "11.11449909210205\n",
      "10.096956253051758\n",
      "11.041189193725586\n",
      "9.623966217041016\n",
      "10.487170219421387\n",
      "10.620484352111816\n",
      "10.720675468444824\n",
      "10.563706398010254\n",
      "8.211548805236816\n",
      "9.411614418029785\n",
      "9.285634994506836\n",
      "12.222795486450195\n",
      "11.175542831420898\n",
      "9.926950454711914\n",
      "7.918979644775391\n",
      "9.73139476776123\n",
      "10.751036643981934\n",
      "10.905313491821289\n",
      "12.647207260131836\n",
      "12.355216979980469\n",
      "9.113972663879395\n",
      "10.382983207702637\n",
      "7.407572269439697\n",
      "11.257092475891113\n",
      "9.76119613647461\n",
      "11.409003257751465\n",
      "7.938696384429932\n",
      "12.020918846130371\n",
      "11.044400215148926\n",
      "10.607104301452637\n",
      "9.866658210754395\n",
      "8.281174659729004\n",
      "9.151246070861816\n",
      "7.801217079162598\n",
      "9.994965553283691\n",
      "11.468240737915039\n",
      "8.511398315429688\n",
      "7.4146575927734375\n",
      "10.05603313446045\n",
      "8.242416381835938\n",
      "11.2792329788208\n",
      "9.716582298278809\n",
      "8.967461585998535\n",
      "8.967156410217285\n",
      "10.4134521484375\n",
      "7.451535224914551\n",
      "8.294266700744629\n",
      "8.444124221801758\n",
      "8.041403770446777\n",
      "10.009571075439453\n",
      "9.770365715026855\n",
      "9.775053977966309\n",
      "7.818197250366211\n",
      "9.653168678283691\n",
      "9.729666709899902\n",
      "9.842184066772461\n",
      "10.617818832397461\n",
      "10.149336814880371\n",
      "6.150401592254639\n",
      "7.824070930480957\n",
      "12.20565414428711\n",
      "9.21845531463623\n",
      "8.512548446655273\n",
      "8.07977294921875\n",
      "9.790111541748047\n",
      "8.727346420288086\n",
      "7.5819268226623535\n",
      "10.26065731048584\n",
      "9.294398307800293\n",
      "9.321613311767578\n",
      "9.435863494873047\n",
      "11.478919982910156\n",
      "9.958046913146973\n",
      "9.264155387878418\n",
      "9.64743709564209\n",
      "9.193839073181152\n",
      "9.94935417175293\n",
      "8.720704078674316\n",
      "10.301138877868652\n",
      "7.926662921905518\n",
      "10.068684577941895\n",
      "6.573482990264893\n",
      "7.414787769317627\n",
      "7.051212310791016\n",
      "6.290894508361816\n",
      "8.930570602416992\n",
      "10.129223823547363\n",
      "9.961176872253418\n",
      "8.61925220489502\n",
      "8.986456871032715\n",
      "7.051465034484863\n",
      "10.204691886901855\n",
      "8.153792381286621\n",
      "8.56027603149414\n",
      "8.551567077636719\n",
      "7.4779839515686035\n",
      "8.589574813842773\n",
      "9.755769729614258\n",
      "6.9322052001953125\n",
      "10.207199096679688\n",
      "6.944530963897705\n",
      "8.014281272888184\n",
      "6.725884437561035\n",
      "6.559064865112305\n",
      "8.185073852539062\n",
      "6.435587406158447\n",
      "8.702401161193848\n",
      "5.708248138427734\n",
      "9.155233383178711\n",
      "9.203461647033691\n",
      "7.50361442565918\n",
      "8.425082206726074\n",
      "6.307361602783203\n",
      "7.91914176940918\n",
      "7.53504753112793\n",
      "8.640908241271973\n",
      "7.628676891326904\n",
      "5.120591163635254\n",
      "7.509627819061279\n",
      "7.514965534210205\n",
      "6.119705677032471\n",
      "5.726134300231934\n",
      "7.911540985107422\n",
      "7.3007893562316895\n",
      "7.099203586578369\n",
      "6.258150100708008\n",
      "5.770425319671631\n",
      "7.28302001953125\n",
      "6.980025768280029\n",
      "7.285767555236816\n",
      "7.126373291015625\n",
      "6.972170829772949\n",
      "8.08432388305664\n",
      "5.687717437744141\n",
      "7.355036735534668\n",
      "8.08140754699707\n",
      "6.774933815002441\n",
      "7.924317836761475\n",
      "6.902412414550781\n",
      "7.739279270172119\n",
      "8.36097240447998\n",
      "5.5040669441223145\n",
      "8.84644603729248\n",
      "8.196123123168945\n",
      "6.160217761993408\n",
      "6.901957035064697\n",
      "5.483248233795166\n",
      "5.199770450592041\n",
      "7.256874084472656\n",
      "6.562854766845703\n",
      "7.791513919830322\n",
      "6.033618927001953\n",
      "6.349111080169678\n",
      "6.296701431274414\n",
      "5.899112701416016\n",
      "6.161459922790527\n",
      "5.615657329559326\n",
      "5.41132926940918\n",
      "4.537807941436768\n",
      "5.330824851989746\n",
      "7.125377655029297\n",
      "6.162805557250977\n",
      "5.859408378601074\n",
      "6.669649600982666\n",
      "7.211988925933838\n",
      "5.776739597320557\n",
      "5.285910129547119\n",
      "6.739273548126221\n",
      "6.5387444496154785\n",
      "5.633999824523926\n",
      "5.8627705574035645\n",
      "5.529730796813965\n",
      "7.1622514724731445\n",
      "7.337350845336914\n",
      "6.064192771911621\n",
      "4.974210739135742\n",
      "5.136022090911865\n",
      "5.743862152099609\n",
      "5.968145847320557\n",
      "6.720073699951172\n",
      "5.275958061218262\n",
      "4.4211745262146\n",
      "6.333983421325684\n",
      "5.902572154998779\n",
      "5.81354284286499\n",
      "4.735276222229004\n",
      "5.657081604003906\n",
      "5.113436222076416\n",
      "6.601339817047119\n",
      "6.733239650726318\n",
      "6.554920196533203\n",
      "6.537271976470947\n",
      "5.542597770690918\n",
      "4.976973056793213\n",
      "5.371894836425781\n",
      "5.834357261657715\n",
      "5.735013961791992\n",
      "4.9545698165893555\n",
      "5.146340847015381\n",
      "5.864020824432373\n",
      "7.083083629608154\n",
      "4.497263431549072\n",
      "3.9923484325408936\n",
      "4.549510955810547\n",
      "4.784724235534668\n",
      "6.215726375579834\n",
      "4.26488733291626\n",
      "5.327337265014648\n",
      "5.391769886016846\n",
      "5.044225215911865\n",
      "4.929171562194824\n",
      "5.566688060760498\n",
      "5.0685954093933105\n",
      "5.626030921936035\n",
      "4.867237567901611\n",
      "4.979721546173096\n",
      "4.7229719161987305\n",
      "5.536179542541504\n",
      "5.670774936676025\n",
      "5.129369735717773\n",
      "5.870485305786133\n",
      "4.867092132568359\n",
      "5.853842735290527\n",
      "3.815962076187134\n",
      "4.964448928833008\n",
      "5.16018533706665\n",
      "4.686523914337158\n",
      "4.172665596008301\n",
      "5.3322367668151855\n",
      "5.1619038581848145\n",
      "3.8527991771698\n",
      "3.8765976428985596\n",
      "4.777236461639404\n",
      "3.234243869781494\n",
      "4.696063041687012\n",
      "4.448338985443115\n",
      "5.260159969329834\n",
      "4.762627124786377\n",
      "4.502716541290283\n",
      "4.358922481536865\n",
      "5.8341217041015625\n",
      "5.379547595977783\n",
      "4.276297569274902\n",
      "4.797896385192871\n",
      "3.2447612285614014\n",
      "4.493706703186035\n",
      "4.276083946228027\n",
      "3.4605915546417236\n",
      "4.340763092041016\n",
      "4.69504976272583\n",
      "3.816221237182617\n",
      "4.902778148651123\n",
      "3.951122760772705\n",
      "3.2735812664031982\n",
      "3.9403533935546875\n",
      "5.237373352050781\n",
      "4.874172687530518\n",
      "4.892120838165283\n",
      "5.695185661315918\n",
      "4.519359111785889\n",
      "3.8884851932525635\n",
      "4.785396099090576\n",
      "3.7821977138519287\n",
      "3.674438953399658\n",
      "4.793976306915283\n",
      "3.627591848373413\n",
      "4.6998291015625\n",
      "3.695396661758423\n",
      "4.4659271240234375\n",
      "4.098989486694336\n",
      "4.268504619598389\n",
      "5.071361541748047\n",
      "4.635094165802002\n",
      "3.553724765777588\n",
      "4.3897929191589355\n",
      "4.085177421569824\n",
      "3.9530293941497803\n",
      "4.301700115203857\n",
      "3.8968887329101562\n",
      "3.849238872528076\n",
      "3.743535280227661\n",
      "4.490137577056885\n",
      "4.24287223815918\n",
      "3.7590155601501465\n",
      "3.4778642654418945\n",
      "4.017768859863281\n",
      "3.6341400146484375\n",
      "2.9181084632873535\n",
      "4.425925254821777\n",
      "3.0693230628967285\n",
      "2.9003474712371826\n",
      "3.52341628074646\n",
      "3.825990915298462\n",
      "4.544393539428711\n",
      "3.976621389389038\n",
      "3.9079253673553467\n",
      "3.751079797744751\n",
      "3.056022882461548\n",
      "4.702968597412109\n",
      "3.7961666584014893\n",
      "3.5390212535858154\n",
      "2.958278179168701\n",
      "3.779008150100708\n",
      "3.3398468494415283\n",
      "2.864184856414795\n",
      "3.5729477405548096\n",
      "4.241741180419922\n",
      "3.7237582206726074\n",
      "3.4618160724639893\n",
      "3.252474784851074\n",
      "3.185701370239258\n",
      "2.8793959617614746\n",
      "4.019603252410889\n",
      "4.260869979858398\n",
      "3.564788341522217\n",
      "3.6466193199157715\n",
      "3.4089949131011963\n",
      "2.814842939376831\n",
      "3.64133882522583\n",
      "3.0146236419677734\n",
      "3.2960596084594727\n",
      "3.50976824760437\n",
      "3.4522016048431396\n",
      "3.6397173404693604\n",
      "3.344834327697754\n",
      "4.463449478149414\n",
      "3.9447948932647705\n",
      "2.6274662017822266\n",
      "3.1047136783599854\n",
      "3.3578951358795166\n",
      "4.095911502838135\n",
      "2.844923496246338\n",
      "3.4219958782196045\n",
      "3.15215802192688\n",
      "3.4280307292938232\n",
      "3.226888418197632\n",
      "3.4553825855255127\n",
      "3.19616961479187\n",
      "3.27398681640625\n",
      "3.4625661373138428\n",
      "3.632207155227661\n",
      "3.971979856491089\n",
      "3.4720687866210938\n",
      "3.8172836303710938\n",
      "4.582550525665283\n",
      "3.315751552581787\n",
      "3.2790088653564453\n",
      "2.978928327560425\n",
      "3.344287395477295\n",
      "2.890038251876831\n",
      "3.308779239654541\n",
      "3.0361006259918213\n",
      "2.93791127204895\n",
      "3.183779001235962\n",
      "2.922259569168091\n",
      "3.0939619541168213\n",
      "3.2908904552459717\n",
      "3.498016357421875\n",
      "3.571326971054077\n",
      "3.559037446975708\n",
      "3.1320009231567383\n",
      "2.582669258117676\n",
      "3.7000927925109863\n",
      "3.5616769790649414\n",
      "4.329581260681152\n",
      "3.4294631481170654\n",
      "2.965599775314331\n",
      "2.6886134147644043\n",
      "2.908688545227051\n",
      "3.5684094429016113\n",
      "3.037973165512085\n",
      "2.73905611038208\n",
      "3.512946128845215\n",
      "3.2439253330230713\n",
      "2.665498971939087\n",
      "3.2429966926574707\n",
      "3.009038209915161\n",
      "3.250725269317627\n",
      "3.541835308074951\n",
      "3.4384047985076904\n",
      "3.333465576171875\n",
      "3.3125133514404297\n",
      "3.3104844093322754\n",
      "3.3406424522399902\n",
      "3.0507779121398926\n",
      "3.0333988666534424\n",
      "3.2231669425964355\n",
      "3.0547239780426025\n",
      "3.805307626724243\n",
      "3.1079227924346924\n",
      "2.827723979949951\n",
      "3.1379752159118652\n",
      "2.7882847785949707\n",
      "3.2298645973205566\n",
      "3.753105640411377\n",
      "3.306708335876465\n",
      "2.8237416744232178\n",
      "2.846306085586548\n",
      "3.5247702598571777\n",
      "3.094836711883545\n",
      "2.3461461067199707\n",
      "3.0525453090667725\n",
      "3.21218204498291\n",
      "4.168149948120117\n",
      "2.7690062522888184\n",
      "2.769824266433716\n",
      "3.2335147857666016\n",
      "2.919431209564209\n",
      "2.765371322631836\n",
      "2.8827829360961914\n",
      "3.1558098793029785\n",
      "3.2592475414276123\n",
      "2.4637019634246826\n",
      "3.591226100921631\n",
      "2.3843023777008057\n",
      "3.635413646697998\n",
      "4.037897109985352\n",
      "3.180379629135132\n",
      "3.8171846866607666\n",
      "2.8437814712524414\n",
      "2.8483948707580566\n",
      "3.362856149673462\n",
      "3.1882436275482178\n",
      "3.049121141433716\n",
      "3.672074794769287\n",
      "2.909853458404541\n",
      "2.884654998779297\n",
      "3.1200666427612305\n",
      "3.2688560485839844\n",
      "3.2120776176452637\n",
      "3.3950490951538086\n",
      "2.5103962421417236\n",
      "3.4809417724609375\n",
      "3.0973405838012695\n",
      "2.7629764080047607\n",
      "3.729722499847412\n",
      "3.279435873031616\n",
      "2.868518590927124\n",
      "2.7098708152770996\n",
      "3.543243169784546\n",
      "2.72507381439209\n",
      "3.144590139389038\n",
      "2.8067116737365723\n",
      "3.152162790298462\n",
      "3.302232265472412\n",
      "3.870424747467041\n",
      "2.7536211013793945\n",
      "2.783435821533203\n",
      "3.454303503036499\n",
      "2.8907370567321777\n",
      "2.847689390182495\n",
      "3.368344783782959\n",
      "3.6124889850616455\n",
      "3.1858534812927246\n",
      "3.4173243045806885\n",
      "3.1330103874206543\n",
      "3.2542262077331543\n",
      "3.1050143241882324\n",
      "3.5534274578094482\n",
      "3.307112693786621\n",
      "3.172398090362549\n",
      "2.7890548706054688\n",
      "3.071316719055176\n",
      "3.296381950378418\n",
      "3.1407628059387207\n",
      "3.6013193130493164\n",
      "3.70391845703125\n",
      "3.045433521270752\n",
      "3.1518757343292236\n",
      "3.3009986877441406\n",
      "3.6910080909729004\n",
      "3.022984027862549\n",
      "2.8019297122955322\n",
      "3.052668571472168\n",
      "3.125469207763672\n",
      "3.0961127281188965\n",
      "3.389899969100952\n",
      "3.1800143718719482\n",
      "3.484321117401123\n",
      "3.4531643390655518\n",
      "3.2623956203460693\n",
      "3.55072021484375\n",
      "2.9046363830566406\n",
      "2.8148560523986816\n",
      "3.135183811187744\n",
      "3.32466459274292\n",
      "3.123939037322998\n",
      "3.7806477546691895\n",
      "3.817098617553711\n",
      "4.459597587585449\n",
      "2.948296070098877\n",
      "2.856144666671753\n",
      "4.349823474884033\n",
      "2.9519691467285156\n",
      "3.4186153411865234\n",
      "3.6473724842071533\n",
      "3.8078205585479736\n",
      "3.0059752464294434\n",
      "2.7492921352386475\n",
      "3.076326608657837\n",
      "3.553727149963379\n",
      "3.3937854766845703\n",
      "3.5774283409118652\n",
      "3.262409210205078\n",
      "2.57936954498291\n",
      "3.619022846221924\n",
      "3.9151036739349365\n",
      "3.2154810428619385\n",
      "3.4432568550109863\n",
      "3.1706438064575195\n",
      "2.9634408950805664\n",
      "3.9165542125701904\n",
      "3.2851052284240723\n",
      "3.6038143634796143\n",
      "2.8628249168395996\n",
      "3.35302472114563\n",
      "3.8829867839813232\n",
      "2.654005765914917\n",
      "3.729861259460449\n",
      "3.460371971130371\n",
      "2.844517469406128\n",
      "3.376185178756714\n",
      "3.1147003173828125\n",
      "3.228278636932373\n",
      "4.121894836425781\n",
      "3.6550564765930176\n",
      "3.0842702388763428\n",
      "2.9707815647125244\n",
      "3.2287464141845703\n",
      "2.8569817543029785\n",
      "3.029735565185547\n",
      "4.161107540130615\n",
      "3.7605936527252197\n",
      "3.6891393661499023\n",
      "3.8527016639709473\n",
      "5.993948459625244\n",
      "6.546597003936768\n",
      "5.375633716583252\n",
      "4.709812164306641\n",
      "5.533587455749512\n",
      "4.9498491287231445\n",
      "3.7076125144958496\n",
      "3.7658636569976807\n",
      "3.2995235919952393\n",
      "4.621565818786621\n",
      "4.11116886138916\n",
      "3.6862375736236572\n",
      "3.875502824783325\n",
      "3.436713933944702\n",
      "3.1624224185943604\n",
      "3.69682240486145\n",
      "3.46700119972229\n",
      "3.8208467960357666\n",
      "4.77368688583374\n",
      "5.067974090576172\n",
      "5.153866767883301\n",
      "3.9311108589172363\n",
      "4.39150333404541\n",
      "3.068302869796753\n",
      "3.306401252746582\n",
      "3.7181990146636963\n",
      "3.002307415008545\n",
      "4.004459381103516\n",
      "4.126791000366211\n",
      "3.5670645236968994\n",
      "4.226144790649414\n",
      "4.301666736602783\n",
      "4.340946197509766\n",
      "4.957434177398682\n",
      "3.739452362060547\n",
      "3.9992003440856934\n",
      "4.508448123931885\n",
      "5.116740703582764\n",
      "3.322335720062256\n",
      "4.802379608154297\n",
      "4.49089241027832\n",
      "5.666893005371094\n",
      "3.6893038749694824\n",
      "4.81077241897583\n",
      "3.3640663623809814\n",
      "5.733907699584961\n",
      "6.069808006286621\n",
      "4.133880615234375\n",
      "4.882617950439453\n",
      "6.068938732147217\n",
      "7.011058807373047\n",
      "4.448500633239746\n",
      "5.865527153015137\n",
      "6.2594380378723145\n",
      "5.569624423980713\n",
      "5.9209513664245605\n",
      "5.433802604675293\n",
      "5.858448505401611\n",
      "4.450021266937256\n",
      "4.337299823760986\n",
      "4.564939022064209\n",
      "5.109221935272217\n",
      "5.490735054016113\n",
      "6.000696182250977\n",
      "4.75263786315918\n",
      "5.419517993927002\n",
      "5.36639928817749\n",
      "6.656354904174805\n",
      "6.336728096008301\n",
      "5.623871803283691\n",
      "4.864187717437744\n",
      "5.114924430847168\n",
      "6.019549369812012\n",
      "4.812802791595459\n",
      "5.334133148193359\n",
      "4.2809014320373535\n",
      "4.136290073394775\n",
      "4.644365310668945\n",
      "5.263258934020996\n",
      "4.646174430847168\n",
      "5.2965850830078125\n",
      "6.0312700271606445\n",
      "5.982285022735596\n",
      "5.965604305267334\n",
      "7.15973424911499\n",
      "7.136846542358398\n",
      "6.979518890380859\n",
      "6.143998146057129\n",
      "4.802319049835205\n",
      "7.0643205642700195\n",
      "5.868337154388428\n",
      "6.8722639083862305\n",
      "4.177985191345215\n",
      "5.5391082763671875\n",
      "4.9045329093933105\n",
      "6.484530448913574\n",
      "6.577841758728027\n",
      "5.941638469696045\n",
      "7.895859241485596\n",
      "7.106287002563477\n",
      "6.558085918426514\n",
      "5.493799686431885\n",
      "6.72346830368042\n",
      "4.651792049407959\n",
      "5.167952060699463\n",
      "4.685523986816406\n",
      "4.879683017730713\n",
      "4.035247802734375\n",
      "5.724499702453613\n",
      "7.348495006561279\n",
      "9.536115646362305\n",
      "8.14112663269043\n",
      "7.338054656982422\n",
      "6.586961269378662\n",
      "5.300940990447998\n",
      "5.8360371589660645\n",
      "5.100468158721924\n",
      "6.065704345703125\n",
      "5.355314254760742\n",
      "5.329913139343262\n",
      "6.624683380126953\n",
      "7.447905540466309\n",
      "6.833726406097412\n",
      "6.125073432922363\n",
      "5.303208827972412\n",
      "7.573917865753174\n",
      "5.240675449371338\n",
      "6.322840690612793\n",
      "5.64647912979126\n",
      "7.307113170623779\n",
      "7.111675262451172\n",
      "6.347854137420654\n",
      "5.7263970375061035\n",
      "6.7452239990234375\n",
      "5.5866546630859375\n",
      "6.518085956573486\n",
      "5.339495658874512\n",
      "6.229095458984375\n",
      "5.939094543457031\n",
      "8.096267700195312\n",
      "5.940829277038574\n",
      "5.926751136779785\n",
      "7.31049108505249\n",
      "5.615122318267822\n",
      "6.277441501617432\n",
      "7.14765739440918\n",
      "5.614300727844238\n",
      "6.465041160583496\n",
      "6.554459095001221\n",
      "6.408034801483154\n",
      "7.738124847412109\n",
      "6.873165130615234\n",
      "10.048898696899414\n",
      "6.729581832885742\n",
      "5.776284694671631\n",
      "4.978371620178223\n",
      "7.4032511711120605\n",
      "9.159052848815918\n",
      "8.729022026062012\n"
     ]
    }
   ],
   "source": [
    "lri = []\n",
    "lrei = []\n",
    "lossi = []\n",
    "\n",
    "for i in range(1000):\n",
    "    # Minibatch construct\n",
    "    # Tho the gradient won't be as good quality, it's still reliable\n",
    "    ix = torch.randint(0, X.shape[0], (32,)) # random minibatch of size 32\n",
    "\n",
    "    # Forward pass\n",
    "    emb = C[X[ix]] # 32, 3, 2 (32 examples, len-3 context window, len-2 embedding)\n",
    "    h = torch.tanh(emb.view(-1, 6) @ W1 + b1)\n",
    "    logits = h @ W2 + b2 # we view this as log of counts\n",
    "    loss = F.cross_entropy(logits, Y[ix])\n",
    "    print(loss.item())\n",
    "\n",
    "    # Backward pass\n",
    "    for p in parameters:\n",
    "        p.grad = None\n",
    "    loss.backward()\n",
    "\n",
    "    # Update parameters\n",
    "    lr = lrs[i]\n",
    "    for p in parameters:\n",
    "        # To choose learning rate, experiment with some low rates and high rates. \n",
    "        # Low rate is rate that causes gradient to decrease very slow\n",
    "        # High rate is rate that causes gradient to decrease quite fast\n",
    "        # Ater experiment, the learning can be around -0.001 to -1\n",
    "        p.data += -lr * p.grad \n",
    "    \n",
    "    # Track stats\n",
    "    lossi.append(loss.item())\n",
    "    lri.append(lr)\n",
    "    lrei.append(lre[i])\n",
    "\n",
    "# print(loss.item()) # This is the loss of the minibatch only\n",
    "\n",
    "# emb = C[X] # 32, 3, 2 (32 examples, len-3 context window, len-2 embedding)\n",
    "# h = torch.tanh(emb.view(-1, 6) @ W1 + b1)\n",
    "# logits = h @ W2 + b2 # we view this as log of counts\n",
    "# loss = F.cross_entropy(logits, Y)\n",
    "# print(loss.item()) # This is the loss of the whole model"
   ]
  },
  {
   "cell_type": "code",
   "execution_count": 68,
   "metadata": {},
   "outputs": [
    {
     "data": {
      "text/plain": [
       "[<matplotlib.lines.Line2D at 0x7fbfb1124c40>]"
      ]
     },
     "execution_count": 68,
     "metadata": {},
     "output_type": "execute_result"
    },
    {
     "data": {
      "image/png": "[encoded data removed]",
      "text/plain": [
       "<Figure size 640x480 with 1 Axes>"
      ]
     },
     "metadata": {},
     "output_type": "display_data"
    }
   ],
   "source": [
    "# Looking at the graph, the good learning rate turns out to be something around 0.0 and 0.2\n",
    "# Which does not cause too much fluctuation in the loss\n",
    "plt.plot(lri, lossi)"
   ]
  },
  {
   "cell_type": "code",
   "execution_count": 69,
   "metadata": {},
   "outputs": [
    {
     "data": {
      "text/plain": [
       "[<matplotlib.lines.Line2D at 0x7fbfa0736020>]"
      ]
     },
     "execution_count": 69,
     "metadata": {},
     "output_type": "execute_result"
    },
    {
     "data": {
      "image/png": "[encoded data removed]",
      "text/plain": [
       "<Figure size 640x480 with 1 Axes>"
      ]
     },
     "metadata": {},
     "output_type": "display_data"
    }
   ],
   "source": [
    "# The good exponential for learning rate should be somewhere inside the valley\n",
    "plt.plot(lrei, lossi)"
   ]
  },
  {
   "cell_type": "code",
   "execution_count": 70,
   "metadata": {},
   "outputs": [
    {
     "name": "stdout",
     "output_type": "stream",
     "text": [
      "2.500380039215088\n"
     ]
    }
   ],
   "source": [
    "g = torch.Generator().manual_seed(2147483647)\n",
    "C = torch.randn((27, 2), generator=g)\n",
    "W1 = torch.randn((6, 100), generator=g)\n",
    "b1 = torch.randn(100, generator=g)\n",
    "W2 = torch.randn((100, 27), generator=g)\n",
    "b2 = torch.randn(27, generator=g)\n",
    "parameters = [C, W1, b1, W2, b2]\n",
    "\n",
    "for p in parameters:\n",
    "    p.requires_grad = True\n",
    "\n",
    "for i in range(10_000):\n",
    "    # Minibatch construct\n",
    "    # Tho the gradient won't be as good quality, it's still reliable\n",
    "    ix = torch.randint(0, X.shape[0], (32,)) # random minibatch of size 32\n",
    "\n",
    "    # Forward pass\n",
    "    emb = C[X[ix]] # 32, 3, 2 (32 examples, len-3 context window, len-2 embedding)\n",
    "    h = torch.tanh(emb.view(-1, 6) @ W1 + b1)\n",
    "    logits = h @ W2 + b2 # we view this as log of counts\n",
    "    loss = F.cross_entropy(logits, Y[ix])\n",
    "\n",
    "    # Backward pass\n",
    "    for p in parameters:\n",
    "        p.grad = None\n",
    "    loss.backward()\n",
    "\n",
    "    # Update parameters\n",
    "    lr = 0.1 # Now that we are fairly confident that 0.1 is a good learning rate\n",
    "    for p in parameters:\n",
    "        p.data += -lr * p.grad \n",
    "\n",
    "# print(loss.item()) # This is the loss of the minibatch only\n",
    "\n",
    "emb = C[X] # 32, 3, 2 (32 examples, len-3 context window, len-2 embedding)\n",
    "h = torch.tanh(emb.view(-1, 6) @ W1 + b1)\n",
    "logits = h @ W2 + b2 # we view this as log of counts\n",
    "loss = F.cross_entropy(logits, Y)\n",
    "print(loss.item()) # This is the loss of the whole model"
   ]
  },
  {
   "cell_type": "markdown",
   "metadata": {},
   "source": [
    "## Summary on strategy to pick learning rate\n",
    "\n",
    "Try to see the lower bound learning rate and higher bound learning rate\n",
    "\n",
    "Graph it like above and find an estimated good learning rate\n",
    "\n",
    "Use it for training\n",
    "\n",
    "Then, decay it by some levels: Like we can change it from 0.1 to 0.01 after training for many iterations\n",
    "\n",
    "- After the model almost hits plateau, we refine learning to slower rate (learning rate decay) to further achieve better gradient"
   ]
  },
  {
   "cell_type": "markdown",
   "metadata": {},
   "source": [
    "# Create train/val/test\n",
    "\n",
    "A model with many parameters will likely be capable of overfitting (remembering) the examples and will not be able to generate new output if we sample from the model \n",
    "\n",
    "- Train: Training split\n",
    "\n",
    "- Val: Validation/Dev split\n",
    "\n",
    "- Test: Testing split\n",
    "\n",
    "**NOTE**: Validation split is for tuning hyperparameters (like learning rate or regularization strength) and prevent overfitting\n",
    "\n",
    "- Hyperparameters in this case are also the length of the hidden layer and the length of the embedding\n",
    "\n",
    "- Try different hyperparameters to see what works best for the validation split"
   ]
  },
  {
   "cell_type": "code",
   "execution_count": 71,
   "metadata": {},
   "outputs": [
    {
     "name": "stdout",
     "output_type": "stream",
     "text": [
      "torch.Size([182625, 3]) torch.Size([182625])\n",
      "torch.Size([22655, 3]) torch.Size([22655])\n",
      "torch.Size([22866, 3]) torch.Size([22866])\n"
     ]
    }
   ],
   "source": [
    "# train: 80%, val/dev: 10%, test: 10%\n",
    "\n",
    "def build_dataset(words):\n",
    "    block_size = 3 # context length: how many characters do we take to predict the next one?\n",
    "    X, Y = [], []\n",
    "    for w in words:\n",
    "        context = [0] * block_size\n",
    "        for ch in w + '.':\n",
    "            ix = stoi[ch]\n",
    "            X.append(context)\n",
    "            Y.append(ix)\n",
    "            context = context[1:] + [ix] # crop and append\n",
    "    \n",
    "    X = torch.tensor(X)\n",
    "    Y = torch.tensor(Y)\n",
    "    print(X.shape, Y.shape)\n",
    "    return X, Y\n",
    "\n",
    "import random\n",
    "random.seed(42)\n",
    "random.shuffle(words)\n",
    "n1 = int(0.8 * len(words)) # n1 is breakpoint of 80% of words\n",
    "n2 = int(0.9 * len(words)) # n2 is breakpiont of 90% of words\n",
    "\n",
    "Xtr, Ytr = build_dataset(words[:n1]) # train\n",
    "Xdev, Ydev = build_dataset(words[n1:n2]) # dev/validation\n",
    "Xte, Xte = build_dataset(words[n2:]) # test"
   ]
  },
  {
   "cell_type": "code",
   "execution_count": 72,
   "metadata": {},
   "outputs": [
    {
     "data": {
      "text/plain": [
       "32033"
      ]
     },
     "execution_count": 72,
     "metadata": {},
     "output_type": "execute_result"
    }
   ],
   "source": [
    "len(words)"
   ]
  },
  {
   "cell_type": "code",
   "execution_count": 73,
   "metadata": {},
   "outputs": [
    {
     "data": {
      "text/plain": [
       "25626"
      ]
     },
     "execution_count": 73,
     "metadata": {},
     "output_type": "execute_result"
    }
   ],
   "source": [
    "n1"
   ]
  },
  {
   "cell_type": "code",
   "execution_count": 74,
   "metadata": {},
   "outputs": [
    {
     "data": {
      "text/plain": [
       "28829"
      ]
     },
     "execution_count": 74,
     "metadata": {},
     "output_type": "execute_result"
    }
   ],
   "source": [
    "n2"
   ]
  },
  {
   "cell_type": "code",
   "execution_count": 75,
   "metadata": {},
   "outputs": [
    {
     "data": {
      "text/plain": [
       "(3203, 3204)"
      ]
     },
     "execution_count": 75,
     "metadata": {},
     "output_type": "execute_result"
    }
   ],
   "source": [
    "n2-n1, len(words)-n2"
   ]
  },
  {
   "cell_type": "code",
   "execution_count": 77,
   "metadata": {},
   "outputs": [
    {
     "name": "stdout",
     "output_type": "stream",
     "text": [
      "2.2425856590270996\n",
      "2.439265251159668\n",
      "2.439709424972534\n"
     ]
    }
   ],
   "source": [
    "g = torch.Generator().manual_seed(2147483647)\n",
    "C = torch.randn((27, 2), generator=g)\n",
    "W1 = torch.randn((6, 100), generator=g)\n",
    "b1 = torch.randn(100, generator=g)\n",
    "W2 = torch.randn((100, 27), generator=g)\n",
    "b2 = torch.randn(27, generator=g)\n",
    "parameters = [C, W1, b1, W2, b2]\n",
    "\n",
    "for p in parameters:\n",
    "    p.requires_grad = True\n",
    "\n",
    "for i in range(30_000):\n",
    "    # Minibatch construct\n",
    "    # Tho the gradient won't be as good quality, it's still reliable\n",
    "    ix = torch.randint(0, Xtr.shape[0], (32,)) # random minibatch of size 32\n",
    "\n",
    "    # Forward pass\n",
    "    emb = C[Xtr[ix]] # 32, 3, 2 (32 examples, len-3 context window, len-2 embedding)\n",
    "    h = torch.tanh(emb.view(-1, 6) @ W1 + b1)\n",
    "    logits = h @ W2 + b2 # we view this as log of counts\n",
    "    loss = F.cross_entropy(logits, Ytr[ix])\n",
    "\n",
    "    # Backward pass\n",
    "    for p in parameters:\n",
    "        p.grad = None\n",
    "    loss.backward()\n",
    "\n",
    "    # Update parameters\n",
    "    lr = 0.1 # Now that we are fairly confident that 0.1 is a good learning rate\n",
    "    for p in parameters:\n",
    "        p.data += -lr * p.grad \n",
    "\n",
    "print(loss.item()) # This is the loss of the minibatch only\n",
    "\n",
    "emb = C[Xtr] # 32, 3, 2 (32 examples, len-3 context window, len-2 embedding)\n",
    "h = torch.tanh(emb.view(-1, 6) @ W1 + b1)\n",
    "logits = h @ W2 + b2 # we view this as log of counts\n",
    "loss = F.cross_entropy(logits, Ytr)\n",
    "print(loss.item()) # This is the loss of the whole model\n",
    "\n",
    "emb = C[Xdev] # 32, 3, 2 (32 examples, len-3 context window, len-2 embedding)\n",
    "h = torch.tanh(emb.view(-1, 6) @ W1 + b1)\n",
    "logits = h @ W2 + b2 # we view this as log of counts\n",
    "loss = F.cross_entropy(logits, Ydev)\n",
    "print(loss.item()) # This is the loss of the whole model"
   ]
  },
  {
   "cell_type": "markdown",
   "metadata": {},
   "source": [
    "# Scale up hidden layer"
   ]
  },
  {
   "cell_type": "code",
   "execution_count": 86,
   "metadata": {},
   "outputs": [
    {
     "name": "stdout",
     "output_type": "stream",
     "text": [
      "10281\n",
      "2.4334967136383057\n",
      "2.304537534713745\n",
      "2.3174779415130615\n"
     ]
    }
   ],
   "source": [
    "\"\"\"\n",
    "Since the loss on training set and dev set are almost the same\n",
    "We are probably underfitting, so we will scale the neural net to be bigger\n",
    "\"\"\"\n",
    "g = torch.Generator().manual_seed(2147483647)\n",
    "C = torch.randn((27, 2), generator=g)\n",
    "W1 = torch.randn((6, 300), generator=g) # Pump the hidden layer to be larger\n",
    "b1 = torch.randn(300, generator=g)\n",
    "W2 = torch.randn((300, 27), generator=g)\n",
    "b2 = torch.randn(27, generator=g)\n",
    "parameters = [C, W1, b1, W2, b2]\n",
    "\n",
    "print(sum(p.nelement() for p in parameters))\n",
    "\n",
    "for p in parameters:\n",
    "    p.requires_grad = True\n",
    "\n",
    "lossi = []\n",
    "stepi = []\n",
    "\n",
    "for i in range(100_000):\n",
    "    # Minibatch construct\n",
    "    # Tho the gradient won't be as good quality, it's still reliable\n",
    "    ix = torch.randint(0, Xtr.shape[0], (32,)) # random minibatch of size 32\n",
    "\n",
    "    # Forward pass\n",
    "    emb = C[Xtr[ix]] # 32, 3, 2 (32 examples, len-3 context window, len-2 embedding)\n",
    "    h = torch.tanh(emb.view(-1, 6) @ W1 + b1)\n",
    "    logits = h @ W2 + b2 # we view this as log of counts\n",
    "    loss = F.cross_entropy(logits, Ytr[ix])\n",
    "\n",
    "    # Backward pass\n",
    "    for p in parameters:\n",
    "        p.grad = None\n",
    "    loss.backward()\n",
    "\n",
    "    # Update parameters\n",
    "    lr = 0.1 # Now that we are fairly confident that 0.1 is a good learning rate\n",
    "    for p in parameters:\n",
    "        p.data += -lr * p.grad \n",
    "    \n",
    "    # Track stats\n",
    "    lossi.append(loss.item())\n",
    "    stepi.append(i)\n",
    "\n",
    "\n",
    "print(loss.item()) # This is the loss of the minibatch only\n",
    "\n",
    "emb = C[Xtr] # 32, 3, 2 (32 examples, len-3 context window, len-2 embedding)\n",
    "h = torch.tanh(emb.view(-1, 6) @ W1 + b1)\n",
    "logits = h @ W2 + b2 # we view this as log of counts\n",
    "loss = F.cross_entropy(logits, Ytr)\n",
    "print(loss.item()) # This is the loss of the whole model\n",
    "\n",
    "emb = C[Xdev] # 32, 3, 2 (32 examples, len-3 context window, len-2 embedding)\n",
    "h = torch.tanh(emb.view(-1, 6) @ W1 + b1)\n",
    "logits = h @ W2 + b2 # we view this as log of counts\n",
    "loss = F.cross_entropy(logits, Ydev)\n",
    "print(loss.item()) # This is the loss of the whole model"
   ]
  },
  {
   "cell_type": "code",
   "execution_count": 87,
   "metadata": {},
   "outputs": [
    {
     "data": {
      "text/plain": [
       "[<matplotlib.lines.Line2D at 0x7fbf812a0370>]"
      ]
     },
     "execution_count": 87,
     "metadata": {},
     "output_type": "execute_result"
    },
    {
     "data": {
      "image/png": "[encoded data removed]",
      "text/plain": [
       "<Figure size 640x480 with 1 Axes>"
      ]
     },
     "metadata": {},
     "output_type": "display_data"
    }
   ],
   "source": [
    "plt.plot(stepi, lossi)"
   ]
  },
  {
   "cell_type": "code",
   "execution_count": 88,
   "metadata": {},
   "outputs": [
    {
     "data": {
      "image/png": "[encoded data removed]",
      "text/plain": [
       "<Figure size 800x800 with 1 Axes>"
      ]
     },
     "metadata": {},
     "output_type": "display_data"
    }
   ],
   "source": [
    "# Viisualize the embedding space\n",
    "\n",
    "# One interesting thing is that our model is forming some ideas about the vowels and kinda clustering the a, e, i, o together\n",
    "# The u is still out there LOL! \n",
    "# What it tells us is that the neural net treats these characters very similarly\n",
    "\n",
    "plt.figure(figsize=(8,8))\n",
    "plt.scatter(C[:,0].data, C[:,1].data, s=200)\n",
    "for i in range(C.shape[0]):\n",
    "    plt.text(C[i,0].item(), C[i,1].item(), itos[i], ha=\"center\", va=\"center\", color=\"white\")\n",
    "plt.grid('minor')"
   ]
  },
  {
   "cell_type": "markdown",
   "metadata": {},
   "source": [
    "# Scale up embedding layer"
   ]
  },
  {
   "cell_type": "code",
   "execution_count": 89,
   "metadata": {},
   "outputs": [
    {
     "name": "stdout",
     "output_type": "stream",
     "text": [
      "11897\n"
     ]
    }
   ],
   "source": [
    "g = torch.Generator().manual_seed(2147483647)\n",
    "C = torch.randn((27, 10), generator=g) # Pump the embedding size\n",
    "W1 = torch.randn((10 * 3, 200), generator=g) # Pump the hidden layer to be 200\n",
    "b1 = torch.randn(200, generator=g)\n",
    "W2 = torch.randn((200, 27), generator=g)\n",
    "b2 = torch.randn(27, generator=g)\n",
    "parameters = [C, W1, b1, W2, b2]\n",
    "\n",
    "print(sum(p.nelement() for p in parameters))\n",
    "\n",
    "for p in parameters:\n",
    "    p.requires_grad = True\n",
    "\n",
    "lossi = []\n",
    "stepi = []"
   ]
  },
  {
   "cell_type": "code",
   "execution_count": 92,
   "metadata": {},
   "outputs": [],
   "source": [
    "# Since even ater we scale up the hidden layer, the model does not perform as good as we expect\n",
    "# So we guess that the embedding size is the bottle neck right now\n",
    "\n",
    "for i in range(50_000):\n",
    "    # Minibatch construct\n",
    "    # Tho the gradient won't be as good quality, it's still reliable\n",
    "    ix = torch.randint(0, Xtr.shape[0], (32,)) # random minibatch of size 32\n",
    "\n",
    "    # Forward pass\n",
    "    emb = C[Xtr[ix]] # 32, 3, 2 (32 examples, len-3 context window, len-2 embedding)\n",
    "    h = torch.tanh(emb.view(-1, 30) @ W1 + b1)\n",
    "    logits = h @ W2 + b2 # we view this as log of counts\n",
    "    loss = F.cross_entropy(logits, Ytr[ix])\n",
    "\n",
    "    # Backward pass\n",
    "    for p in parameters:\n",
    "        p.grad = None\n",
    "    loss.backward()\n",
    "\n",
    "    # Update parameters\n",
    "    lr = 0.01 # Now that we are fairly confident that 0.1 is a good learning rate\n",
    "    for p in parameters:\n",
    "        p.data += -lr * p.grad \n",
    "    \n",
    "    # Track stats\n",
    "    lossi.append(loss.log10().item())\n",
    "    stepi.append(i)"
   ]
  },
  {
   "cell_type": "code",
   "execution_count": 93,
   "metadata": {},
   "outputs": [
    {
     "data": {
      "text/plain": [
       "[<matplotlib.lines.Line2D at 0x7fbfb15819f0>]"
      ]
     },
     "execution_count": 93,
     "metadata": {},
     "output_type": "execute_result"
    },
    {
     "data": {
      "image/png": "[encoded data removed]",
      "text/plain": [
       "<Figure size 640x480 with 1 Axes>"
      ]
     },
     "metadata": {},
     "output_type": "display_data"
    }
   ],
   "source": [
    "plt.plot(stepi, lossi)"
   ]
  },
  {
   "cell_type": "code",
   "execution_count": 95,
   "metadata": {},
   "outputs": [
    {
     "name": "stdout",
     "output_type": "stream",
     "text": [
      "2.634084939956665\n",
      "2.1915063858032227\n",
      "2.221350908279419\n"
     ]
    }
   ],
   "source": [
    "print(loss.item()) # This is the loss of the minibatch only\n",
    "\n",
    "emb = C[Xtr] # 32, 3, 2 (32 examples, len-3 context window, len-2 embedding)\n",
    "h = torch.tanh(emb.view(-1, 30) @ W1 + b1)\n",
    "logits = h @ W2 + b2 # we view this as log of counts\n",
    "loss = F.cross_entropy(logits, Ytr)\n",
    "print(loss.item()) # This is the loss of the whole model\n",
    "\n",
    "emb = C[Xdev] # 32, 3, 2 (32 examples, len-3 context window, len-2 embedding)\n",
    "h = torch.tanh(emb.view(-1, 30) @ W1 + b1)\n",
    "logits = h @ W2 + b2 # we view this as log of counts\n",
    "loss = F.cross_entropy(logits, Ydev)\n",
    "print(loss.item()) # This is the loss of the whole model"
   ]
  },
  {
   "cell_type": "markdown",
   "metadata": {},
   "source": [
    "# Summary on optimization\n",
    "\n",
    "There are many knobs we can play around here:\n",
    "\n",
    "- Length of hidden layer\n",
    "\n",
    "- Size of embedding\n",
    "\n",
    "- Length of context window\n",
    "\n",
    "- Learning rate: Change it, init it one time, or even set breakpoints (like after how many iterations, rate is decay to a new lower number)\n",
    "\n",
    "- More training iterations\n",
    "\n",
    "- Batch size"
   ]
  },
  {
   "cell_type": "markdown",
   "metadata": {},
   "source": [
    "# Sample from the model"
   ]
  },
  {
   "cell_type": "code",
   "execution_count": 96,
   "metadata": {},
   "outputs": [
    {
     "name": "stdout",
     "output_type": "stream",
     "text": [
      "carpah.\n",
      "amelle.\n",
      "khi.\n",
      "mili.\n",
      "thaylenanden.\n",
      "jazontlangerric.\n",
      "kaqui.\n",
      "nellana.\n",
      "chaiiv.\n",
      "kaleigh.\n",
      "ham.\n",
      "joce.\n",
      "quinn.\n",
      "shon.\n",
      "rai.\n",
      "adbi.\n",
      "watelo.\n",
      "dearynixah.\n",
      "evellsa.\n",
      "men.\n"
     ]
    }
   ],
   "source": [
    "g = torch.Generator().manual_seed(2147483647 + 10)\n",
    "\n",
    "for _ in range(20):\n",
    "    out = []\n",
    "    context = [0] * block_size # initialize with . . .\n",
    "    while True:\n",
    "        # 1 is due to one example only\n",
    "        emb = C[torch.tensor([context])] # (1, block_size, embedding size d)\n",
    "        h = torch.tanh(emb.view(1, -1) @ W1 + b1) \n",
    "        logits = h @ W2 + b2\n",
    "        probs = F.softmax(logits, dim=1)\n",
    "        ix = torch.multinomial(probs, num_samples=1, generator=g).item()\n",
    "        context = context[1:] + [ix]\n",
    "        out.append(ix)\n",
    "        if ix == 0:\n",
    "            break\n",
    "\n",
    "    print(''.join(itos[i] for i in out))"
   ]
  },
  {
   "cell_type": "code",
   "execution_count": null,
   "metadata": {},
   "outputs": [],
   "source": []
  }
 ],
 "metadata": {
  "kernelspec": {
   "display_name": "Python 3 (ipykernel)",
   "language": "python",
   "name": "python3"
  },
  "language_info": {
   "codemirror_mode": {
    "name": "ipython",
    "version": 3
   },
   "file_extension": ".py",
   "mimetype": "text/x-python",
   "name": "python",
   "nbconvert_exporter": "python",
   "pygments_lexer": "ipython3",
   "version": "3.10.9"
  }
 },
 "nbformat": 4,
 "nbformat_minor": 2
}
